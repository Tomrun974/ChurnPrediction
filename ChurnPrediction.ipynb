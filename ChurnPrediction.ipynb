{
 "cells": [
  {
   "cell_type": "markdown",
   "metadata": {},
   "source": [
    "# Table of Contents\n",
    "\n",
    "1. [Introduction and Objectives](#1-introduction-and-objectives)  \n",
    "   - [1.1 Objective](#11-objective)\n",
    "2. [Loading Configuration and Dataset](#2-loading-configuration-and-dataset)\n",
    "3. [Exploratory Data Analysis (EDA)](#3-exploratory-data-analysis-eda)  \n",
    "   - [3.1 Overview of the Dataset](#31-overview-of-the-dataset)  \n",
    "   - [3.2 Descriptive Statistics](#32-descriptive-statistics)  \n",
    "   - [3.3 Missing Values Analysis](#33-missing-values-analysis)  \n",
    "   - [3.4 Distribution of Categorical Variables](#34-distribution-of-categorical-variables)  \n",
    "   - [3.5 Distribution of Numerical Variables](#35-distribution-of-numerical-variables)  \n",
    "   - [3.6 Correlation Analysis](#36-correlation-analysis)  \n",
    "   - [3.7 Conclusion of Exploratory Data Analysis](#37-conclusion-of-exploratory-data-analysis)\n",
    "4. [Preprocessing and Feature Engineering](#4-preprocessing-and-feature-engineering)  \n",
    "   - [4.1 Data Cleaning](#41-data-cleaning)  \n",
    "   - [4.2 Categorical Data Encoding](#42-categorical-data-encoding)  \n",
    "   - [4.3 Feature Scaling](#43-feature-scaling)  \n",
    "5. [Training and Evaluating Models](#5-training-and-evaluating-models)  \n",
    "   - [5.1 Data Preparation](#51-data-preparation)  \n",
    "   - [5.2 Model Training and Evaluation](#52-model-training-and-evaluation)  \n",
    "   - [5.3 Model Comparison](#53-model-comparison)  \n",
    "\n"
   ]
  },
  {
   "cell_type": "markdown",
   "metadata": {},
   "source": [
    "# 1. Introduction and Objectives\n",
    "\n",
    "Customer churn, the phenomenon of customers discontinuing a service, is a critical challenge for businesses across various industries. Understanding and predicting which customers are likely to churn allows companies to take proactive measures to retain them, thereby improving customer lifetime value and reducing marketing costs.\n",
    "\n",
    "This notebook presents an end-to-end analysis and machine learning model for predicting customer churn using **PySpark**, a powerful tool for large-scale distributed data processing. By leveraging PySpark, this solution can efficiently handle and analyze large datasets in a scalable manner.\n",
    "\n",
    "## 1.1 Objective\n",
    "\n",
    "The primary objective of this notebook is to build an accurate machine learning model that can predict customer churn. The model will help businesses identify at-risk customers and allow them to intervene before churn occurs. We will follow these key steps in the process:\n",
    "\n",
    "1. **Data Cleaning**: Handling missing values, outliers, and data inconsistencies to ensure a clean dataset for analysis.\n",
    "2. **Exploratory Data Analysis (EDA)**: Performing an in-depth analysis of the dataset to understand feature distributions, relationships, and potential factors influencing churn.\n",
    "3. **Feature Engineering**: Creating new features that can enhance the model’s predictive power, including handling categorical variables, date transformations, and scaling numerical features.\n",
    "4. **Model Building and Tuning**: Training and evaluating multiple machine learning models, fine-tuning them using hyperparameter optimization, and selecting the best-performing model for churn prediction.\n",
    "\n",
    "The final model will be evaluated based on several metrics, including accuracy, precision, recall, F1 score, and AUC, ensuring a well-rounded assessment of the model's performance."
   ]
  },
  {
   "cell_type": "markdown",
   "metadata": {},
   "source": [
    "# 2. Loading Configuration and Dataset\n",
    "\n",
    "In this section, we will configure the Spark session and load the dataset that we will use throughout this notebook for the customer churn prediction task.\n",
    "\n",
    "We will:\n",
    "- Set up the necessary Spark configurations.\n",
    "- Define paths to important resources (like datasets).\n",
    "- Load the dataset into a Spark DataFrame."
   ]
  },
  {
   "cell_type": "code",
   "execution_count": 1,
   "metadata": {},
   "outputs": [
    {
     "name": "stderr",
     "output_type": "stream",
     "text": [
      "24/10/01 03:52:03 WARN Utils: Your hostname, MacBook-Air-de-Thomas-5.local resolves to a loopback address: 127.0.0.1; using 172.20.10.12 instead (on interface en0)\n",
      "24/10/01 03:52:03 WARN Utils: Set SPARK_LOCAL_IP if you need to bind to another address\n",
      "Setting default log level to \"WARN\".\n",
      "To adjust logging level use sc.setLogLevel(newLevel). For SparkR, use setLogLevel(newLevel).\n",
      "24/10/01 03:52:04 WARN NativeCodeLoader: Unable to load native-hadoop library for your platform... using builtin-java classes where applicable\n",
      "24/10/01 03:52:04 WARN Utils: Service 'SparkUI' could not bind on port 4040. Attempting port 4041.\n"
     ]
    }
   ],
   "source": [
    "# Import necessary libraries for Spark\n",
    "from pyspark.sql import SparkSession\n",
    "\n",
    "# 1. Configure Spark Session\n",
    "spark = SparkSession.builder \\\n",
    "    .appName(\"ChurnPrediction\") \\\n",
    "    .config(\"spark.driver.memory\", \"6g\") \\\n",
    "    .getOrCreate()\n",
    "\n",
    "# Set log level to ERROR to minimize unnecessary output\n",
    "spark.sparkContext.setLogLevel(\"ERROR\")\n",
    "\n",
    "# 2. Define the path to the dataset\n",
    "file_path = \"./churn.csv\"\n",
    "\n",
    "# 3. Load the dataset into a Spark DataFrame\n",
    "df = spark.read.format(\"csv\") \\\n",
    "    .option(\"header\", \"true\") \\\n",
    "    .option(\"inferSchema\", \"true\") \\\n",
    "    .load(file_path)\n",
    "\n"
   ]
  },
  {
   "cell_type": "markdown",
   "metadata": {},
   "source": [
    "# 3. Exploratory Data Analysis (EDA)\n",
    "\n",
    "In this section, we will explore the dataset to better understand the distribution of key features, relationships between variables, and potential insights that can be useful for building our churn prediction model.\n",
    "\n",
    "We will:\n",
    "- Generate descriptive statistics.\n",
    "- Visualize the distribution of key features.\n",
    "- Investigate correlations between variables."
   ]
  },
  {
   "cell_type": "markdown",
   "metadata": {},
   "source": [
    "## 3.1 Overview of the Dataset\n",
    "\n",
    "In this section, we will inspect the basic structure of the dataset, including the number of rows, columns, and their respective data types."
   ]
  },
  {
   "cell_type": "code",
   "execution_count": null,
   "metadata": {},
   "outputs": [],
   "source": [
    "# Show the schema of the dataset to understand its structure\n",
    "df.printSchema()\n",
    "\n",
    "# Show a few rows to get a feel for the data\n",
    "df.show(5)"
   ]
  },
  {
   "cell_type": "markdown",
   "metadata": {},
   "source": [
    "### 3.1 Overview of the Dataset - Results Summary"
   ]
  },
  {
   "cell_type": "markdown",
   "metadata": {},
   "source": [
    "The dataset contains 23 columns with various types of data about customers and their behavior. Key columns include:\n",
    "\n",
    "•\tage (integer): Represents the age of the customer.\n",
    "\n",
    "•\tgender (string): Customer’s gender, with values like “M” and “F”, but some may be missing or unknown.\n",
    "\n",
    "•\tsecurity_no (string): An identifier for the customer, potentially anonymized.\n",
    "\n",
    "•\tregion_category (string): Represents the type of region the customer is from (e.g., Village, Town, City).\n",
    "\n",
    "•\tmembership_category (string): Indicates the customer’s membership level, ranging from no membership to premium or platinum memberships.\n",
    "\n",
    "•\tjoining_date (string): The date the customer joined the service.\n",
    "\n",
    "•\tjoined_through_referral (string): Whether the customer joined via a referral program (Yes/No).\n",
    "\n",
    "•\tpreferred_offer_types (string): Indicates the types of offers the customer prefers, such as gift vouchers or credit/debit card offers.\n",
    "\n",
    "•\tmedium_of_operation (string): The platform used by the customer (e.g., desktop, smartphone).\n",
    "\n",
    "•\tinternet_option (string): Describes the type of internet connection (e.g., Wi-Fi, mobile data).\n",
    "\n",
    "•\tlast_visit_time (timestamp): The most recent time the customer visited the platform.\n",
    "\n",
    "•\tdays_since_last_login (integer): Number of days since the customer last logged in.\n",
    "\n",
    "•\tavg_time_spent (double): Average time spent by the customer per visit, in minutes.\n",
    "\n",
    "•\tavg_transaction_value (double): The average value of customer transactions.\n",
    "\n",
    "•\tavg_frequency_login_days (string): The average number of days between logins, with some potential errors.\n",
    "\n",
    "•\tpoints_in_wallet (double): Points accumulated by the customer in their wallet.\n",
    "\n",
    "•\tused_special_discount (string): Whether the customer used special discounts (Yes/No).\n",
    "\n",
    "•\toffer_application_preference (string): Whether the customer prefers applying offers (Yes/No).\n",
    "\n",
    "•\tpast_complaint (string): Indicates if the customer has previously filed complaints.\n",
    "\n",
    "•\tcomplaint_status (string): Status of any customer complaints (e.g., Solved, Unsolved).\n",
    "\n",
    "•\tfeedback (string): Customer feedback, possibly related to complaints or overall satisfaction.\n",
    "\n",
    "•\tchurn_risk_score (integer): The target variable, indicating the likelihood of the customer churning (0 = low risk, 1 = high risk).\n",
    "\n",
    "This initial exploration shows that the dataset contains a mix of categorical and numerical variables, as well as some missing values and potential data quality issues (missing values in points_in_wallet). These issues will need to be addressed in the data cleaning process."
   ]
  },
  {
   "cell_type": "markdown",
   "metadata": {},
   "source": [
    "## 3.2 Descriptive Statistics\n",
    "\n",
    "Here, we summarize the central tendencies and spread of the numerical variables in the dataset."
   ]
  },
  {
   "cell_type": "code",
   "execution_count": null,
   "metadata": {},
   "outputs": [],
   "source": [
    "# Display summary statistics for numerical columns\n",
    "df.describe().show()"
   ]
  },
  {
   "cell_type": "markdown",
   "metadata": {},
   "source": [
    "### 3.2 Descriptive Statistics - Results Summary\n"
   ]
  },
  {
   "cell_type": "markdown",
   "metadata": {},
   "source": [
    "\t•\tDays Since Last Login: Contains problematic values, with a minimum of -999. Needs cleaning.\n",
    "\t•\tAverage Time Spent: Ranges from highly negative to positive values, suggesting data errors.\n",
    "\t•\tAverage Frequency of Login Days: Includes invalid values like “Error” and negatives, requiring cleaning.\n",
    "\t•\tPoints in Wallet: Contains negative values, which don’t make sense and need correction.\n",
    "\t•\tChurn Risk Score: Balanced between 0 and 1, indicating a good distribution for analysis.\n",
    "\n",
    "Issues to Address:\n",
    "\n",
    "\t1.\tNegative Values: Found in key columns like days_since_last_login, avg_time_spent, and points_in_wallet.\n",
    "\t2.\tString Errors: Present in avg_frequency_login_days requiring correction.\n",
    "\t3.\tPotential Outliers: Large variance in avg_time_spent and avg_transaction_value suggests outliers.\n"
   ]
  },
  {
   "cell_type": "markdown",
   "metadata": {},
   "source": [
    "## 3.3 Missing Values Analysis\n",
    "\n",
    "This section will help us identify which columns contain missing values and how prevalent those missing values are."
   ]
  },
  {
   "cell_type": "code",
   "execution_count": null,
   "metadata": {},
   "outputs": [],
   "source": [
    "from pyspark.sql.functions import count, col, when\n",
    "\n",
    "# Check for missing values in each column\n",
    "df.select([count(when(col(c).isNull(), c)).alias(c) for c in df.columns]).show()"
   ]
  },
  {
   "cell_type": "markdown",
   "metadata": {},
   "source": [
    "### 3.2 Missing Values Analysis - Results Summary"
   ]
  },
  {
   "cell_type": "markdown",
   "metadata": {},
   "source": [
    "The missing values analysis shows that the dataset contains missing values in the following columns:\n",
    "\n",
    "region_category: 5428 missing values\n",
    "\n",
    "preferred_offer_types: 288 missing values\n",
    "\n",
    "points_in_wallet: 3443 missing values\n",
    "\n",
    "These missing values will need to be addressed during the data cleaning process. The strategy for handling missing values will depend on the nature of the data and the impact of missing values on the analysis and model performance."
   ]
  },
  {
   "cell_type": "markdown",
   "metadata": {},
   "source": [
    "## 3.4 Distribution of Categorical Variables\n",
    "\n",
    "In this section, we will examine the distribution of key categorical variables like `gender`, `region_category`, and `membership_category`."
   ]
  },
  {
   "cell_type": "code",
   "execution_count": null,
   "metadata": {},
   "outputs": [],
   "source": [
    "import matplotlib.pyplot as plt\n",
    "import seaborn as sns\n",
    "\n",
    "# List of categorical columns to plot (excluding problematic ones)\n",
    "categorical_columns = [\"gender\", \"region_category\", \"membership_category\", \"joined_through_referral\", \n",
    "                       \"preferred_offer_types\", \"medium_of_operation\", \"internet_option\", \n",
    "                       \"used_special_discount\", \"offer_application_preference\", \n",
    "                       \"past_complaint\", \"complaint_status\", \"feedback\"]\n",
    "\n",
    "# Set up subplots: define number of rows and columns for the grid\n",
    "fig, ax = plt.subplots(nrows=4, ncols=3, figsize=(20, 25)) \n",
    "ax = ax.flatten()  # Flatten for easier iteration\n",
    "\n",
    "# Loop through each categorical column and plot the results using PySpark and Matplotlib\n",
    "for idx, col in enumerate(categorical_columns):\n",
    "    # Group by the column and count the occurrences of each category\n",
    "    distribution = df.groupBy(col).count().orderBy(\"count\", ascending=False)\n",
    "    \n",
    "    # Collect results to plot without using Pandas\n",
    "    categories = distribution.select(col).rdd.flatMap(lambda x: x).collect()\n",
    "    counts = distribution.select(\"count\").rdd.flatMap(lambda x: x).collect()\n",
    "    \n",
    "    # Create bar plot using Matplotlib and Seaborn\n",
    "    sns.barplot(x=categories, y=counts, ax=ax[idx], palette=\"light:#5A9_r\")\n",
    "    \n",
    "    # Set x-axis labels and rotate them for readability\n",
    "    ax[idx].set_xlabel(col, fontsize=15)\n",
    "    ax[idx].set_ylabel('Count', fontsize=12)\n",
    "    ax[idx].set_title(f'Distribution of {col}', fontsize=16)\n",
    "    ax[idx].tick_params(axis='x', rotation=45)\n",
    "\n",
    "    # Annotate each bar with its count value\n",
    "    for p, count in zip(ax[idx].patches, counts):\n",
    "        ax[idx].annotate(format(count, '.2f'), (p.get_x() + p.get_width() / 2., p.get_height()), \n",
    "                         ha='center', va='center', xytext=(0, 6), textcoords='offset points')\n",
    "\n",
    "# Adjust layout to avoid overlap\n",
    "plt.tight_layout()\n",
    "plt.show()"
   ]
  },
  {
   "cell_type": "markdown",
   "metadata": {},
   "source": [
    "### 3.4.1 Distribution of Categorical Variables - Results Summary"
   ]
  },
  {
   "cell_type": "markdown",
   "metadata": {},
   "source": [
    "•\tGender: The data is nearly balanced with 18,490 females, 18,443 males, and 59 unknown entries.\n",
    "\n",
    "•\tRegion Category: There are 5,428 missing values. Most customers are from Towns (14,128), followed by Cities (12,737), and Villages (4,699).\n",
    "\n",
    "•\tMembership Category: The majority of customers have No Membership (7,692) or Basic Membership (7,724), with notable representation in higher tiers like Gold (6,795) and Silver (5,988).\n",
    "\n",
    "•\tReferral Program: 15,715 customers joined via referral, while 15,839 did not and we don't have data for 5,438 customers.\n",
    "\n",
    "•\tPreferred Offer Types: “Gift Vouchers/Coupons” (12,349) is the most common, followed by “Without Offers” (12,081) and “Credit/Debit Card Offers” (12,349). There are 288 missing values.\n",
    "\n",
    "•\tMedium of Operation: Most customers access the platform via Desktop (13,913) or Smartphone (13,876). There are 5,393 missing values.\n",
    "\n",
    "•\tInternet Option: Wi-Fi is the most popular option (12,413 users).\n",
    "\n",
    "•\tSpecial Discount Usage: 20,342 customers used special discounts, while 16,650 did not.\n",
    "\n",
    "•\tOffer Application Preference: 20,440 customers prefer using offers, while 16,552 do not.\n",
    "\n",
    "•\tPast Complaints: 18,390 customers have filed complaints, while 18,602 have not.\n",
    "\n",
    "•\tComplaint Status: The most common statuses are Not Applicable (18,602), followed by Unsolved (4,644) and Solved in Follow-up (4,619).\n"
   ]
  },
  {
   "cell_type": "markdown",
   "metadata": {},
   "source": [
    "## 3.5 Distribution of Numerical Variables\n",
    "\n",
    "Here, we will visualize the distributions of key numerical variables like `avg_time_spent`, `points_in_wallet`, and `days_since_last_login`."
   ]
  },
  {
   "cell_type": "code",
   "execution_count": null,
   "metadata": {},
   "outputs": [],
   "source": [
    "import matplotlib.pyplot as plt\n",
    "from pyspark.sql import functions as F\n",
    "\n",
    "# List of numerical features to plot\n",
    "numerical_columns = [\"age\", \"days_since_last_login\", \"avg_time_spent\", \"avg_transaction_value\", \"points_in_wallet\"]\n",
    "\n",
    "# Dictionary to store results for each column\n",
    "distribution_data = {}\n",
    "\n",
    "# Loop through each numerical column, compute distribution using PySpark\n",
    "for col in numerical_columns:\n",
    "    # Filter out null or invalid values before grouping\n",
    "    distribution = df.filter(df[col].isNotNull()) \\\n",
    "                     .groupBy(col).count().orderBy(col)\n",
    "    \n",
    "    # Collect the results to lists for plotting\n",
    "    values = distribution.select(col).rdd.flatMap(lambda x: x).collect()\n",
    "    counts = distribution.select(\"count\").rdd.flatMap(lambda x: x).collect()\n",
    "    \n",
    "    # Store results in the dictionary\n",
    "    distribution_data[col] = (values, counts)\n",
    "\n",
    "# Set up subplots: one plot per numerical feature\n",
    "fig, axes = plt.subplots(nrows=3, ncols=2, figsize=(14, 10))\n",
    "fig.suptitle('Distribution of Numerical Features', fontsize=16)\n",
    "\n",
    "# Flatten axes array to easily iterate through subplots\n",
    "axes = axes.flatten()\n",
    "\n",
    "# Plot the distribution of each numerical feature\n",
    "for idx, col in enumerate(numerical_columns):\n",
    "    values, counts = distribution_data[col]\n",
    "    axes[idx].bar(values, counts, color='skyblue', edgecolor='black')\n",
    "    axes[idx].set_title(f'Distribution of {col}')\n",
    "    axes[idx].set_xlabel(col)\n",
    "    axes[idx].set_ylabel('Frequency')\n",
    "\n",
    "# Remove empty subplot (since we have 5 plots)\n",
    "fig.delaxes(axes[5])\n",
    "\n",
    "plt.tight_layout(rect=[0, 0, 1, 0.95])  # Adjust layout to not overlap with title\n",
    "plt.show()"
   ]
  },
  {
   "cell_type": "code",
   "execution_count": null,
   "metadata": {},
   "outputs": [],
   "source": [
    "# List of numerical columns to check skewness\n",
    "numerical_columns = [\"age\", \"days_since_last_login\", \"avg_time_spent\", \"avg_transaction_value\", \"points_in_wallet\"]\n",
    "\n",
    "# Loop through each column and calculate skewness\n",
    "for col in numerical_columns:\n",
    "    skewness_value = df.select(F.skewness(col)).collect()[0][0]\n",
    "    print(f\"Skewness for {col}: {skewness_value}\")"
   ]
  },
  {
   "cell_type": "markdown",
   "metadata": {},
   "source": [
    "### 3.5.1 Distribution of Numerical Variables - Results Summary"
   ]
  },
  {
   "cell_type": "markdown",
   "metadata": {},
   "source": [
    "1.\tAge:\n",
    "\n",
    "•\tSkewness: -0.007 (nearly symmetrical).\n",
    "\n",
    "•\tDistribution is uniform across age groups.\n",
    "\n",
    "2.\tDays Since Last Login:\n",
    "\n",
    "•\tSkewness: -3.94 (highly negative skew).\n",
    "\n",
    "•\tMost users logged in recently, with a few extreme negative values (likely errors).\n",
    "\n",
    "3.\tAverage Time Spent:\n",
    "\n",
    "•\tSkewness: 0.54 (moderate positive skew).\n",
    "\n",
    "•\tMost users spend less time on the platform, with some outliers showing high values and a few negative entries.\n",
    "\n",
    "4.\tAverage Transaction Value:\n",
    "\n",
    "•\tSkewness: 1.01 (positively skewed).\n",
    "\n",
    "•\tMajority of transactions are low, with some very high-value outliers.\n",
    "\n",
    "5.\tPoints in Wallet:\n",
    "\n",
    "•\tSkewness: -0.08 (slightly negative skew).\n",
    "\n",
    "•\tDistribution is relatively centered, with few users having high or negative point balances.\n",
    "\n",
    "The skewness and distributions highlight potential data quality issues (e.g., negative values) in several columns that need cleaning before further analysis."
   ]
  },
  {
   "cell_type": "markdown",
   "metadata": {},
   "source": [
    "## 3.6 Correlation Analysis\n",
    "\n",
    "We will now check the correlation between numerical variables and the target variable `churn_risk_score`."
   ]
  },
  {
   "cell_type": "code",
   "execution_count": null,
   "metadata": {},
   "outputs": [],
   "source": [
    "import matplotlib.pyplot as plt\n",
    "import seaborn as sns\n",
    "import numpy as np\n",
    "\n",
    "# List of numerical columns to include in the correlation analysis\n",
    "numerical_columns = [\"age\", \"days_since_last_login\", \"avg_time_spent\", \n",
    "                     \"avg_transaction_value\", \"points_in_wallet\", \"churn_risk_score\"]\n",
    "\n",
    "# Create an empty matrix to store correlations\n",
    "correlation_matrix = np.zeros((len(numerical_columns), len(numerical_columns)))\n",
    "\n",
    "# Calculate correlations between each pair of columns using PySpark\n",
    "for i, col1 in enumerate(numerical_columns):\n",
    "    for j, col2 in enumerate(numerical_columns):\n",
    "        correlation_matrix[i, j] = df.corr(col1, col2)\n",
    "print(correlation_matrix)\n",
    "# Plot the correlation matrix as a heatmap using Matplotlib and Seaborn\n",
    "plt.figure(figsize=(10, 8))\n",
    "sns.heatmap(correlation_matrix, annot=True, xticklabels=numerical_columns, \n",
    "            yticklabels=numerical_columns, cmap=\"coolwarm\", fmt=\".2f\", linewidths=0.5)\n",
    "plt.title('Correlation Matrix of Numerical Features', fontsize=16)\n",
    "plt.show()"
   ]
  },
  {
   "cell_type": "markdown",
   "metadata": {},
   "source": [
    "\t•\tavg_transaction_value has a moderately negative correlation with churn_risk_score (-0.22). This suggests that higher transaction values might be associated with lower churn risk. Customers who spend more may be less likely to leave.\n",
    "\t\n",
    "\t•\tpoints_in_wallet also shows a negative correlation with churn_risk_score (-0.20). This could imply that customers with more points in their wallet are less likely to churn, as they have more incentive to stay and redeem their points."
   ]
  },
  {
   "cell_type": "markdown",
   "metadata": {},
   "source": [
    "## 3.7 Conclusion of Exploratory Data Analysis\n",
    "\n",
    "The exploratory analysis revealed key data quality issues, including negative values in days_since_last_login, avg_time_spent, and points_in_wallet, as well as missing values in several categorical features, such as region_category and preferred_offer_types. These issues will need to be addressed during data cleaning.\n",
    "\n",
    "Notably, avg_transaction_value and points_in_wallet show a negative correlation with churn_risk_score, indicating that higher spending and more points may reduce churn risk. These features will be important in the upcoming modeling phase."
   ]
  },
  {
   "cell_type": "markdown",
   "metadata": {},
   "source": [
    "# 4. Preprocessing and Feature Engineering"
   ]
  },
  {
   "cell_type": "markdown",
   "metadata": {},
   "source": [
    "## 4.1 Data Cleaning"
   ]
  },
  {
   "cell_type": "markdown",
   "metadata": {},
   "source": [
    "### 4.1.1 Handling Missing Values"
   ]
  },
  {
   "cell_type": "code",
   "execution_count": 2,
   "metadata": {},
   "outputs": [
    {
     "name": "stdout",
     "output_type": "stream",
     "text": [
      "+---+------+-----------+---------------+-------------------+------------+-----------------------+-----------+---------------------+-------------------+---------------+---------------+---------------------+--------------+---------------------+------------------------+----------------+---------------------+----------------------------+--------------+----------------+--------+----------------+\n",
      "|age|gender|security_no|region_category|membership_category|joining_date|joined_through_referral|referral_id|preferred_offer_types|medium_of_operation|internet_option|last_visit_time|days_since_last_login|avg_time_spent|avg_transaction_value|avg_frequency_login_days|points_in_wallet|used_special_discount|offer_application_preference|past_complaint|complaint_status|feedback|churn_risk_score|\n",
      "+---+------+-----------+---------------+-------------------+------------+-----------------------+-----------+---------------------+-------------------+---------------+---------------+---------------------+--------------+---------------------+------------------------+----------------+---------------------+----------------------------+--------------+----------------+--------+----------------+\n",
      "|  0|     0|          0|              0|                  0|           0|                      0|          0|                    0|                  0|              0|              0|                    0|             0|                    0|                       0|               0|                    0|                           0|             0|               0|       0|               0|\n",
      "+---+------+-----------+---------------+-------------------+------------+-----------------------+-----------+---------------------+-------------------+---------------+---------------+---------------------+--------------+---------------------+------------------------+----------------+---------------------+----------------------------+--------------+----------------+--------+----------------+\n",
      "\n"
     ]
    }
   ],
   "source": [
    "# Import necessary functions\n",
    "from pyspark.sql.functions import col, when, count\n",
    "\n",
    "# ----------------------------\n",
    "# 1. Handling 'region_category' (null)\n",
    "# Decision: Impute with 'Unknown'\n",
    "# Justification: Missing values represent a lack of information,\n",
    "# and we want to avoid introducing bias by imputing with an existing category.\n",
    "df = df.fillna({'region_category': 'Unknown'})\n",
    "\n",
    "# ----------------------------\n",
    "# 2. Handling 'joined_through_referral' (values \"?\")\n",
    "# Decision: Replace \"?\" with 'Unknown'\n",
    "# Justification: Retain the information that this data is unknown,\n",
    "# rather than removing or imputing with 'Yes' or 'No', which could skew the results.\n",
    "df = df.withColumn('joined_through_referral', \n",
    "                   when(col('joined_through_referral') == '?', 'Unknown').otherwise(col('joined_through_referral')))\n",
    "\n",
    "# ----------------------------\n",
    "# 3. Handling 'preferred_offer_types' (null)\n",
    "# Decision: Impute with the most frequent category\n",
    "# Justification: The number of missing values is very low (<1%), so\n",
    "# imputing with the most frequent value minimizes the impact on the data.\n",
    "most_common_offer = df.groupBy('preferred_offer_types').count().orderBy('count', ascending=False).first()['preferred_offer_types']\n",
    "df = df.fillna({'preferred_offer_types': most_common_offer})\n",
    "\n",
    "# ----------------------------\n",
    "# 4. Handling 'medium_of_operation' (values \"?\")\n",
    "# Decision: Replace \"?\" with 'Unknown'\n",
    "# Justification: We want to keep the data while flagging that \n",
    "# the access medium is unknown.\n",
    "df = df.withColumn('medium_of_operation', \n",
    "                   when(col('medium_of_operation') == '?', 'Unknown').otherwise(col('medium_of_operation')))\n",
    "\n",
    "# ----------------------------\n",
    "# 5. Handling 'points_in_wallet' (values \"Error\")\n",
    "# Decision: Replace \"Error\" with null, then impute with the median\n",
    "# Justification: 'Error' is an anomaly, and using the median is a robust imputation method that avoids being influenced by extreme values.\n",
    "df = df.withColumn('points_in_wallet', when(col('points_in_wallet') == 'Error', None).otherwise(col('points_in_wallet')))\n",
    "df = df.withColumn('points_in_wallet', col('points_in_wallet').cast('double'))  # Convert to double to allow imputation\n",
    "median_points = df.approxQuantile('points_in_wallet', [0.5], 0.0)[0]\n",
    "df = df.fillna({'points_in_wallet': median_points})\n",
    "\n",
    "# ----------------------------\n",
    "# 6. Handling 'avg_frequency_login_days' (null and \"Error\")\n",
    "# Decision: Replace \"Error\" with null, then impute with the median\n",
    "# Justification: 'Error' is an invalid value. Imputing with the median is a robust choice for this frequency variable.\n",
    "df = df.withColumn('avg_frequency_login_days', when(col('avg_frequency_login_days') == 'Error', None).otherwise(col('avg_frequency_login_days')))\n",
    "df = df.withColumn('avg_frequency_login_days', col('avg_frequency_login_days').cast('double'))  # Convert to double\n",
    "median_freq_login = df.approxQuantile('avg_frequency_login_days', [0.5], 0.0)[0]\n",
    "df = df.fillna({'avg_frequency_login_days': median_freq_login})\n",
    "\n",
    "# Verify that missing values have been handled\n",
    "df.select([count(when(col(c).isNull(), c)).alias(c) for c in df.columns]).show()"
   ]
  },
  {
   "cell_type": "markdown",
   "metadata": {},
   "source": [
    "### 4.1.2 Handling Date Columns"
   ]
  },
  {
   "cell_type": "markdown",
   "metadata": {},
   "source": [
    "In this section, we will transform the date columns to extract useful information for our model. Here’s what we will do:\n",
    "\n",
    "•\tFor joining_date:\n",
    "- Calculate the client’s seniority in days, which is the number of days that have passed since they joined the service up to the current date.\n",
    "\n",
    "•\tFor last_visit_time:\n",
    "- Extract the year of the client’s last visit.\n",
    "- Afterwards, we will drop the original date columns since we will have extracted the necessary information."
   ]
  },
  {
   "cell_type": "code",
   "execution_count": 3,
   "metadata": {},
   "outputs": [],
   "source": [
    "from pyspark.sql.functions import to_date, to_timestamp, datediff, current_date, year\n",
    "\n",
    "# Convert 'joining_date' to date type\n",
    "df = df.withColumn('joining_date', to_date(col('joining_date'), 'dd-MM-yyyy'))\n",
    "\n",
    "# Convert 'last_visit_time' to timestamp type\n",
    "df = df.withColumn('last_visit_time', to_timestamp(col('last_visit_time')))\n",
    "\n",
    "# Calculate customer seniority in days\n",
    "df = df.withColumn('customer_seniority', datediff(current_date(), col('joining_date')))\n",
    "\n",
    "# Extract the year from 'last_visit_time'\n",
    "df = df.withColumn('last_visit_year', year(col('last_visit_time')))\n",
    "\n",
    "# Drop the original date columns\n",
    "df = df.drop('joining_date', 'last_visit_time', 'security_no', 'referral_id')"
   ]
  },
  {
   "cell_type": "markdown",
   "metadata": {},
   "source": [
    "### 4.1.3 Correction of Outliers\n",
    "\n",
    "Some numeric columns contain negative values ​​that don't make sense in context, like days_since_last_login and avg_time_spent. We will correct these errors by replacing negative values with the median of the respective columns."
   ]
  },
  {
   "cell_type": "code",
   "execution_count": 4,
   "metadata": {},
   "outputs": [],
   "source": [
    "# 'days_since_last_login'\n",
    "df = df.withColumn('days_since_last_login', when(col('days_since_last_login') < 0, None).otherwise(col('days_since_last_login')))\n",
    "median_days_since_last_login = df.approxQuantile('days_since_last_login', [0.5], 0.0)[0]\n",
    "df = df.fillna({'days_since_last_login': median_days_since_last_login})\n",
    "\n",
    "# 'avg_time_spent'\n",
    "df = df.withColumn('avg_time_spent', when(col('avg_time_spent') < 0, None).otherwise(col('avg_time_spent')))\n",
    "median_avg_time_spent = df.approxQuantile('avg_time_spent', [0.5], 0.0)[0]\n",
    "df = df.fillna({'avg_time_spent': median_avg_time_spent})"
   ]
  },
  {
   "cell_type": "code",
   "execution_count": 5,
   "metadata": {},
   "outputs": [
    {
     "name": "stdout",
     "output_type": "stream",
     "text": [
      "Total number of outliers in column days_since_last_login: 0\n",
      "Total number of outliers in column avg_time_spent: 3227\n",
      "Total number of outliers in column points_in_wallet: 4786\n",
      "Total number of outliers in column avg_frequency_login_days: 846\n",
      "Total number of outliers in column customer_seniority: 0\n",
      "Total number of outliers in column last_visit_year: 0\n"
     ]
    }
   ],
   "source": [
    "from pyspark.sql.functions import col, expr\n",
    "\n",
    "# Step 1: Calculate Q1 (25th percentile) and Q3 (75th percentile) for numeric columns\n",
    "# These will be used to calculate the IQR and detect outliers.\n",
    "numeric_cols = ['days_since_last_login', 'avg_time_spent', 'points_in_wallet', 'avg_frequency_login_days', 'customer_seniority', 'last_visit_year']  # Add other numeric columns as needed\n",
    "\n",
    "# Create a dictionary to store the percentiles\n",
    "percentiles = {}\n",
    "for col_name in numeric_cols:\n",
    "    # Calculate Q1 (25th percentile) and Q3 (75th percentile)\n",
    "    q1 = df.approxQuantile(col_name, [0.25], 0.0)[0]\n",
    "    q3 = df.approxQuantile(col_name, [0.75], 0.0)[0]\n",
    "    iqr = q3 - q1\n",
    "    \n",
    "    # Store the percentiles and IQR for each column\n",
    "    percentiles[col_name] = {'Q1': q1, 'Q3': q3, 'IQR': iqr}\n",
    "\n",
    "# Step 2: Detect outliers for each numeric column using IQR\n",
    "# An outlier is defined as a value less than Q1 - 1.5*IQR or greater than Q3 + 1.5*IQR\n",
    "for col_name in numeric_cols:\n",
    "    q1 = percentiles[col_name]['Q1']\n",
    "    q3 = percentiles[col_name]['Q3']\n",
    "    iqr = percentiles[col_name]['IQR']\n",
    "    \n",
    "    # Define lower and upper bounds for outliers\n",
    "    lower_bound = q1 - 1.5 * iqr\n",
    "    upper_bound = q3 + 1.5 * iqr\n",
    "    \n",
    "    # Identify outliers (values outside the bounds)\n",
    "    outliers = df.filter((col(col_name) < lower_bound) | (col(col_name) > upper_bound))\n",
    "    \n",
    "    # Count the number of outliers\n",
    "    outlier_count = outliers.count()\n",
    "    \n",
    "    print(f'Total number of outliers in column {col_name}: {outlier_count}')\n"
   ]
  },
  {
   "cell_type": "code",
   "execution_count": 6,
   "metadata": {},
   "outputs": [],
   "source": [
    "from pyspark.sql.functions import col, when\n",
    "\n",
    "# List of numeric columns to process\n",
    "numeric_cols = ['avg_time_spent', 'points_in_wallet', 'avg_frequency_login_days']\n",
    "\n",
    "# Step 1: Calculate the IQR, lower and upper bounds for each column\n",
    "percentiles = {}\n",
    "for col_name in numeric_cols:\n",
    "    q1 = df.approxQuantile(col_name, [0.25], 0.0)[0]\n",
    "    q3 = df.approxQuantile(col_name, [0.75], 0.0)[0]\n",
    "    iqr = q3 - q1\n",
    "    lower_bound = q1 - 1.5 * iqr\n",
    "    upper_bound = q3 + 1.5 * iqr\n",
    "    percentiles[col_name] = {\n",
    "        'Q1': q1,\n",
    "        'Q3': q3,\n",
    "        'IQR': iqr,\n",
    "        'lower_bound': lower_bound,\n",
    "        'upper_bound': upper_bound\n",
    "    }\n",
    "\n",
    "# Step 2: Handle outliers based \n",
    "for col_name in numeric_cols:\n",
    "    bounds = percentiles[col_name]\n",
    "    lower_bound = bounds['lower_bound']\n",
    "    upper_bound = bounds['upper_bound']\n",
    "    \n",
    "    if col_name in ['avg_time_spent', 'points_in_wallet']:\n",
    "        # Capping the outliers\n",
    "        df = df.withColumn(col_name, when(col(col_name) < lower_bound, lower_bound).otherwise(col(col_name)))\n",
    "        df = df.withColumn(col_name, when(col(col_name) > upper_bound, upper_bound).otherwise(col(col_name)))\n",
    "    elif col_name == 'avg_frequency_login_days':\n",
    "        # Imputing outliers with the median \n",
    "        median_value = df.approxQuantile(col_name, [0.5], 0.0)[0]\n",
    "        df = df.withColumn(col_name, when((col(col_name) < lower_bound) | (col(col_name) > upper_bound), median_value).otherwise(col(col_name)))"
   ]
  },
  {
   "cell_type": "code",
   "execution_count": 7,
   "metadata": {},
   "outputs": [
    {
     "name": "stdout",
     "output_type": "stream",
     "text": [
      "Number of outliers remaining in column avg_time_spent: 0\n",
      "Number of outliers remaining in column points_in_wallet: 0\n",
      "Number of outliers remaining in column avg_frequency_login_days: 0\n"
     ]
    }
   ],
   "source": [
    "# Recalculate the number of outliers after processing\n",
    "for col_name in numeric_cols:\n",
    "    bounds = percentiles[col_name]\n",
    "    lower_bound = bounds['lower_bound']\n",
    "    upper_bound = bounds['upper_bound']\n",
    "    \n",
    "    outliers = df.filter((col(col_name) < lower_bound) | (col(col_name) > upper_bound))\n",
    "    outlier_count = outliers.count()\n",
    "    \n",
    "    print(f'Number of outliers remaining in column {col_name}: {outlier_count}')"
   ]
  },
  {
   "cell_type": "markdown",
   "metadata": {},
   "source": [
    "## 4.2 Categorical Data Encoding\n",
    "We will encode categorical variables using StringIndexer and OneHotEncoder."
   ]
  },
  {
   "cell_type": "code",
   "execution_count": 8,
   "metadata": {},
   "outputs": [
    {
     "name": "stdout",
     "output_type": "stream",
     "text": [
      "+---+---------------------+--------------+---------------------+------------------------+------------------+----------------+------------------+---------------+-------------+-------------------+-----------------------+---------------------------+-------------------------+-----------------------+-------------------+-------------------------+--------------------------------+------------------+--------------------+--------------+\n",
      "|age|days_since_last_login|avg_time_spent|avg_transaction_value|avg_frequency_login_days|  points_in_wallet|churn_risk_score|customer_seniority|last_visit_year|   gender_ohe|region_category_ohe|membership_category_ohe|joined_through_referral_ohe|preferred_offer_types_ohe|medium_of_operation_ohe|internet_option_ohe|used_special_discount_ohe|offer_application_preference_ohe|past_complaint_ohe|complaint_status_ohe|  feedback_ohe|\n",
      "+---+---------------------+--------------+---------------------+------------------------+------------------+----------------+------------------+---------------+-------------+-------------------+-----------------------+---------------------------+-------------------------+-----------------------+-------------------+-------------------------+--------------------------------+------------------+--------------------+--------------+\n",
      "| 18|                   17|        300.63|             53005.25|                    17.0|            781.75|               0|              2602|           2024|(4,[0],[1.0])|      (5,[3],[1.0])|          (7,[5],[1.0])|              (4,[0],[1.0])|            (4,[0],[1.0])|          (5,[2],[1.0])|      (4,[0],[1.0])|            (3,[0],[1.0])|                   (3,[0],[1.0])|     (3,[0],[1.0])|       (6,[0],[1.0])|(10,[7],[1.0])|\n",
      "| 32|                   16|        306.34|             12838.38|                    10.0|            697.62|               0|              2591|           2024|(4,[0],[1.0])|      (5,[1],[1.0])|          (7,[4],[1.0])|              (4,[2],[1.0])|            (4,[0],[1.0])|          (5,[0],[1.0])|      (4,[1],[1.0])|            (3,[0],[1.0])|                   (3,[1],[1.0])|     (3,[1],[1.0])|       (6,[2],[1.0])|(10,[8],[1.0])|\n",
      "| 44|                   14|        516.16|              21027.0|                    22.0|            500.69|               1|              2881|           2024|(4,[0],[1.0])|      (5,[0],[1.0])|          (7,[1],[1.0])|              (4,[1],[1.0])|            (4,[0],[1.0])|          (5,[0],[1.0])|      (4,[0],[1.0])|            (3,[1],[1.0])|                   (3,[0],[1.0])|     (3,[1],[1.0])|       (6,[3],[1.0])|(10,[3],[1.0])|\n",
      "| 37|                   11|         53.27|             25239.56|                     6.0|            567.66|               1|              2894|           2024|(4,[1],[1.0])|      (5,[1],[1.0])|          (7,[1],[1.0])|              (4,[1],[1.0])|            (4,[0],[1.0])|          (5,[0],[1.0])|      (4,[1],[1.0])|            (3,[1],[1.0])|                   (3,[0],[1.0])|     (3,[1],[1.0])|       (6,[1],[1.0])|(10,[3],[1.0])|\n",
      "| 31|                   20|        113.13|             24483.66|                    16.0|            663.06|               1|              2576|           2024|(4,[0],[1.0])|      (5,[1],[1.0])|          (7,[1],[1.0])|              (4,[0],[1.0])|            (4,[1],[1.0])|          (5,[1],[1.0])|      (4,[1],[1.0])|            (3,[1],[1.0])|                   (3,[0],[1.0])|     (3,[1],[1.0])|       (6,[2],[1.0])|(10,[3],[1.0])|\n",
      "| 13|                   23|        433.62|             13884.77|                    24.0|            722.27|               0|              3189|           2024|(4,[1],[1.0])|      (5,[1],[1.0])|          (7,[2],[1.0])|              (4,[0],[1.0])|            (4,[0],[1.0])|          (5,[2],[1.0])|      (4,[0],[1.0])|            (3,[0],[1.0])|                   (3,[1],[1.0])|     (3,[1],[1.0])|       (6,[1],[1.0])|(10,[1],[1.0])|\n",
      "| 21|                   10|         55.38|               8982.5|                    28.0|            756.21|               0|              3484|           2024|(4,[1],[1.0])|      (5,[0],[1.0])|          (7,[2],[1.0])|              (4,[1],[1.0])|            (4,[0],[1.0])|          (5,[0],[1.0])|      (4,[1],[1.0])|            (3,[0],[1.0])|                   (3,[1],[1.0])|     (3,[1],[1.0])|       (6,[3],[1.0])|(10,[1],[1.0])|\n",
      "| 42|                   19|        429.11|             44554.82|                    24.0|            568.08|               1|              3003|           2024|(4,[1],[1.0])|      (5,[2],[1.0])|          (7,[1],[1.0])|              (4,[2],[1.0])|            (4,[1],[1.0])|          (5,[3],[1.0])|      (4,[2],[1.0])|            (3,[1],[1.0])|                   (3,[0],[1.0])|     (3,[1],[1.0])|       (6,[1],[1.0])|(10,[0],[1.0])|\n",
      "| 44|                   15|        191.07|             18362.31|                    20.0|            697.62|               0|              2848|           2024|(4,[1],[1.0])|      (5,[3],[1.0])|          (7,[3],[1.0])|              (4,[0],[1.0])|            (4,[2],[1.0])|          (5,[1],[1.0])|      (4,[2],[1.0])|            (3,[0],[1.0])|                   (3,[1],[1.0])|     (3,[1],[1.0])|       (6,[3],[1.0])|(10,[4],[1.0])|\n",
      "| 45|                   10|         97.31|             19244.16|                    28.0|            706.23|               1|              2862|           2024|(4,[0],[1.0])|      (5,[0],[1.0])|          (7,[1],[1.0])|              (4,[0],[1.0])|            (4,[0],[1.0])|          (5,[2],[1.0])|      (4,[0],[1.0])|            (3,[1],[1.0])|                   (3,[0],[1.0])|     (3,[1],[1.0])|       (6,[4],[1.0])|(10,[4],[1.0])|\n",
      "| 25|                   14|        570.23|             35119.93|                     8.0|             699.7|               1|              3054|           2024|(4,[0],[1.0])|      (5,[3],[1.0])|          (7,[0],[1.0])|              (4,[1],[1.0])|            (4,[0],[1.0])|          (5,[3],[1.0])|      (4,[0],[1.0])|            (3,[0],[1.0])|                   (3,[0],[1.0])|     (3,[0],[1.0])|       (6,[0],[1.0])|(10,[0],[1.0])|\n",
      "| 60|                   14|         55.53|             41672.02|             33.02434314|            798.12|               0|              3184|           2024|(4,[1],[1.0])|      (5,[1],[1.0])|          (7,[2],[1.0])|              (4,[0],[1.0])|            (4,[0],[1.0])|          (5,[1],[1.0])|      (4,[0],[1.0])|            (3,[0],[1.0])|                   (3,[1],[1.0])|     (3,[0],[1.0])|       (6,[0],[1.0])|(10,[2],[1.0])|\n",
      "| 11|                   13|         41.09|             44007.18|                    18.0|            608.26|               1|              3531|           2024|(4,[1],[1.0])|      (5,[0],[1.0])|          (7,[1],[1.0])|              (4,[0],[1.0])|            (4,[1],[1.0])|          (5,[1],[1.0])|      (4,[2],[1.0])|            (3,[0],[1.0])|                   (3,[1],[1.0])|     (3,[1],[1.0])|       (6,[1],[1.0])|(10,[4],[1.0])|\n",
      "| 34|                   10|         89.76|             21318.19|                     6.0|            697.62|               1|              2855|           2024|(4,[1],[1.0])|      (5,[1],[1.0])|          (7,[0],[1.0])|              (4,[1],[1.0])|            (4,[0],[1.0])|          (5,[1],[1.0])|      (4,[2],[1.0])|            (3,[1],[1.0])|                   (3,[0],[1.0])|     (3,[0],[1.0])|       (6,[0],[1.0])|(10,[0],[1.0])|\n",
      "| 40|                   20|        100.59|             14842.62|                    26.0|            697.62|               0|              2873|           2024|(4,[1],[1.0])|      (5,[1],[1.0])|          (7,[4],[1.0])|              (4,[0],[1.0])|            (4,[2],[1.0])|          (5,[2],[1.0])|      (4,[2],[1.0])|            (3,[1],[1.0])|                   (3,[0],[1.0])|     (3,[0],[1.0])|       (6,[0],[1.0])|(10,[3],[1.0])|\n",
      "| 16|                   13|         30.14|             18792.31|                     7.0|425.37500000000006|               1|              2641|           2024|(4,[0],[1.0])|      (5,[0],[1.0])|          (7,[0],[1.0])|              (4,[2],[1.0])|            (4,[1],[1.0])|          (5,[1],[1.0])|      (4,[2],[1.0])|            (3,[0],[1.0])|                   (3,[1],[1.0])|     (3,[1],[1.0])|       (6,[1],[1.0])|(10,[2],[1.0])|\n",
      "| 57|                    5|        333.34|             47241.32|                     8.0|            697.62|               1|              3170|           2024|(4,[0],[1.0])|      (5,[1],[1.0])|          (7,[1],[1.0])|              (4,[0],[1.0])|            (4,[2],[1.0])|          (5,[2],[1.0])|      (4,[0],[1.0])|            (3,[0],[1.0])|                   (3,[0],[1.0])|     (3,[1],[1.0])|       (6,[3],[1.0])|(10,[2],[1.0])|\n",
      "| 11|                   12|        275.13|             29072.86|                    26.0|            733.97|               0|              2829|           2024|(4,[1],[1.0])|      (5,[0],[1.0])|          (7,[3],[1.0])|              (4,[1],[1.0])|            (4,[0],[1.0])|          (5,[2],[1.0])|      (4,[0],[1.0])|            (3,[0],[1.0])|                   (3,[1],[1.0])|     (3,[0],[1.0])|       (6,[0],[1.0])|(10,[4],[1.0])|\n",
      "| 39|                    9|        241.74|             33170.16|                     6.0|            551.11|               1|              2526|           2024|(4,[1],[1.0])|      (5,[0],[1.0])|          (7,[1],[1.0])|              (4,[0],[1.0])|            (4,[1],[1.0])|          (5,[1],[1.0])|      (4,[2],[1.0])|            (3,[0],[1.0])|                   (3,[1],[1.0])|     (3,[1],[1.0])|       (6,[4],[1.0])|(10,[1],[1.0])|\n",
      "| 45|                   14|         31.15|             66982.61|                     8.0|425.37500000000006|               0|              3163|           2024|(4,[1],[1.0])|      (5,[1],[1.0])|          (7,[4],[1.0])|              (4,[0],[1.0])|            (4,[2],[1.0])|          (5,[2],[1.0])|      (4,[1],[1.0])|            (3,[0],[1.0])|                   (3,[1],[1.0])|     (3,[1],[1.0])|       (6,[1],[1.0])|(10,[7],[1.0])|\n",
      "+---+---------------------+--------------+---------------------+------------------------+------------------+----------------+------------------+---------------+-------------+-------------------+-----------------------+---------------------------+-------------------------+-----------------------+-------------------+-------------------------+--------------------------------+------------------+--------------------+--------------+\n",
      "only showing top 20 rows\n",
      "\n"
     ]
    }
   ],
   "source": [
    "from pyspark.ml.feature import StringIndexer, OneHotEncoder\n",
    "from pyspark.ml import Pipeline\n",
    "\n",
    "# List of categorical variables to encode\n",
    "categorical_cols = ['gender', 'region_category', 'membership_category', 'joined_through_referral', \n",
    "                    'preferred_offer_types', 'medium_of_operation', 'internet_option', \n",
    "                    'used_special_discount', 'offer_application_preference', 'past_complaint', \n",
    "                    'complaint_status', 'feedback']\n",
    "\n",
    "# Create the StringIndexers\n",
    "indexers = [StringIndexer(inputCol=column, outputCol=column + '_index', handleInvalid='keep') for column in categorical_cols]\n",
    "\n",
    "# Create the OneHotEncoders\n",
    "encoder = OneHotEncoder(inputCols=[indexer.getOutputCol() for indexer in indexers],\n",
    "                        outputCols=[column + \"_ohe\" for column in categorical_cols],\n",
    "                        handleInvalid='keep')\n",
    "\n",
    "# Create a pipeline to apply the transformations\n",
    "pipeline = Pipeline(stages=indexers + [encoder])\n",
    "\n",
    "# Apply the pipeline to transform the DataFrame\n",
    "df_transformed = pipeline.fit(df).transform(df)\n",
    "\n",
    "# Drop the original categorical columns and the index columns\n",
    "index_cols = [column + '_index' for column in categorical_cols]  # Create a list of index columns to drop\n",
    "df_transformed = df_transformed.drop(*categorical_cols, *index_cols)\n",
    "\n",
    "# Display the transformed DataFrame\n",
    "df_transformed.show()"
   ]
  },
  {
   "cell_type": "markdown",
   "metadata": {},
   "source": [
    "## 4.3 Feature Scaling"
   ]
  },
  {
   "cell_type": "code",
   "execution_count": 9,
   "metadata": {},
   "outputs": [
    {
     "name": "stdout",
     "output_type": "stream",
     "text": [
      "+----------------+---------------+-------------+-------------------+-----------------------+---------------------------+-------------------------+-----------------------+-------------------+-------------------------+--------------------------------+------------------+--------------------+--------------+--------------------+--------------------+\n",
      "|churn_risk_score|last_visit_year|   gender_ohe|region_category_ohe|membership_category_ohe|joined_through_referral_ohe|preferred_offer_types_ohe|medium_of_operation_ohe|internet_option_ohe|used_special_discount_ohe|offer_application_preference_ohe|past_complaint_ohe|complaint_status_ohe|  feedback_ohe|  numerical_features|     scaled_features|\n",
      "+----------------+---------------+-------------+-------------------+-----------------------+---------------------------+-------------------------+-----------------------+-------------------+-------------------------+--------------------------------+------------------+--------------------+--------------+--------------------+--------------------+\n",
      "|               0|           2024|(4,[0],[1.0])|      (5,[3],[1.0])|          (7,[5],[1.0])|              (4,[0],[1.0])|            (4,[0],[1.0])|          (5,[2],[1.0])|      (4,[0],[1.0])|            (3,[0],[1.0])|                   (3,[0],[1.0])|     (3,[0],[1.0])|       (6,[0],[1.0])|(10,[7],[1.0])|[18.0,781.75,300....|[1.13440047866233...|\n",
      "|               0|           2024|(4,[0],[1.0])|      (5,[1],[1.0])|          (7,[4],[1.0])|              (4,[2],[1.0])|            (4,[0],[1.0])|          (5,[0],[1.0])|      (4,[1],[1.0])|            (3,[0],[1.0])|                   (3,[1],[1.0])|     (3,[1],[1.0])|       (6,[2],[1.0])|(10,[8],[1.0])|[32.0,697.62,306....|[2.01671196206638...|\n",
      "|               1|           2024|(4,[0],[1.0])|      (5,[0],[1.0])|          (7,[1],[1.0])|              (4,[1],[1.0])|            (4,[0],[1.0])|          (5,[0],[1.0])|      (4,[0],[1.0])|            (3,[1],[1.0])|                   (3,[0],[1.0])|     (3,[1],[1.0])|       (6,[3],[1.0])|(10,[3],[1.0])|[44.0,500.69,516....|[2.77297894784127...|\n",
      "|               1|           2024|(4,[1],[1.0])|      (5,[1],[1.0])|          (7,[1],[1.0])|              (4,[1],[1.0])|            (4,[0],[1.0])|          (5,[0],[1.0])|      (4,[1],[1.0])|            (3,[1],[1.0])|                   (3,[0],[1.0])|     (3,[1],[1.0])|       (6,[1],[1.0])|(10,[3],[1.0])|[37.0,567.66,53.2...|[2.33182320613925...|\n",
      "|               1|           2024|(4,[0],[1.0])|      (5,[1],[1.0])|          (7,[1],[1.0])|              (4,[0],[1.0])|            (4,[1],[1.0])|          (5,[1],[1.0])|      (4,[1],[1.0])|            (3,[1],[1.0])|                   (3,[0],[1.0])|     (3,[1],[1.0])|       (6,[2],[1.0])|(10,[3],[1.0])|[31.0,663.06,113....|[1.95368971325180...|\n",
      "|               0|           2024|(4,[1],[1.0])|      (5,[1],[1.0])|          (7,[2],[1.0])|              (4,[0],[1.0])|            (4,[0],[1.0])|          (5,[2],[1.0])|      (4,[0],[1.0])|            (3,[0],[1.0])|                   (3,[1],[1.0])|     (3,[1],[1.0])|       (6,[1],[1.0])|(10,[1],[1.0])|[13.0,722.27,433....|[0.81928923458946...|\n",
      "|               0|           2024|(4,[1],[1.0])|      (5,[0],[1.0])|          (7,[2],[1.0])|              (4,[1],[1.0])|            (4,[0],[1.0])|          (5,[0],[1.0])|      (4,[1],[1.0])|            (3,[0],[1.0])|                   (3,[1],[1.0])|     (3,[1],[1.0])|       (6,[3],[1.0])|(10,[1],[1.0])|[21.0,756.21,55.3...|[1.32346722510606...|\n",
      "|               1|           2024|(4,[1],[1.0])|      (5,[2],[1.0])|          (7,[1],[1.0])|              (4,[2],[1.0])|            (4,[1],[1.0])|          (5,[3],[1.0])|      (4,[2],[1.0])|            (3,[1],[1.0])|                   (3,[0],[1.0])|     (3,[1],[1.0])|       (6,[1],[1.0])|(10,[0],[1.0])|[42.0,568.08,429....|[2.64693445021212...|\n",
      "|               0|           2024|(4,[1],[1.0])|      (5,[3],[1.0])|          (7,[3],[1.0])|              (4,[0],[1.0])|            (4,[2],[1.0])|          (5,[1],[1.0])|      (4,[2],[1.0])|            (3,[0],[1.0])|                   (3,[1],[1.0])|     (3,[1],[1.0])|       (6,[3],[1.0])|(10,[4],[1.0])|[44.0,697.62,191....|[2.77297894784127...|\n",
      "|               1|           2024|(4,[0],[1.0])|      (5,[0],[1.0])|          (7,[1],[1.0])|              (4,[0],[1.0])|            (4,[0],[1.0])|          (5,[2],[1.0])|      (4,[0],[1.0])|            (3,[1],[1.0])|                   (3,[0],[1.0])|     (3,[1],[1.0])|       (6,[4],[1.0])|(10,[4],[1.0])|[45.0,706.23,97.3...|[2.83600119665584...|\n",
      "|               1|           2024|(4,[0],[1.0])|      (5,[3],[1.0])|          (7,[0],[1.0])|              (4,[1],[1.0])|            (4,[0],[1.0])|          (5,[3],[1.0])|      (4,[0],[1.0])|            (3,[0],[1.0])|                   (3,[0],[1.0])|     (3,[0],[1.0])|       (6,[0],[1.0])|(10,[0],[1.0])|[25.0,699.7,570.2...|[1.57555622036436...|\n",
      "|               0|           2024|(4,[1],[1.0])|      (5,[1],[1.0])|          (7,[2],[1.0])|              (4,[0],[1.0])|            (4,[0],[1.0])|          (5,[1],[1.0])|      (4,[0],[1.0])|            (3,[0],[1.0])|                   (3,[1],[1.0])|     (3,[0],[1.0])|       (6,[0],[1.0])|(10,[2],[1.0])|[60.0,798.12,55.5...|[3.78133492887446...|\n",
      "|               1|           2024|(4,[1],[1.0])|      (5,[0],[1.0])|          (7,[1],[1.0])|              (4,[0],[1.0])|            (4,[1],[1.0])|          (5,[1],[1.0])|      (4,[2],[1.0])|            (3,[0],[1.0])|                   (3,[1],[1.0])|     (3,[1],[1.0])|       (6,[1],[1.0])|(10,[4],[1.0])|[11.0,608.26,41.0...|[0.69324473696031...|\n",
      "|               1|           2024|(4,[1],[1.0])|      (5,[1],[1.0])|          (7,[0],[1.0])|              (4,[1],[1.0])|            (4,[0],[1.0])|          (5,[1],[1.0])|      (4,[2],[1.0])|            (3,[1],[1.0])|                   (3,[0],[1.0])|     (3,[0],[1.0])|       (6,[0],[1.0])|(10,[0],[1.0])|[34.0,697.62,89.7...|[2.14275645969553...|\n",
      "|               0|           2024|(4,[1],[1.0])|      (5,[1],[1.0])|          (7,[4],[1.0])|              (4,[0],[1.0])|            (4,[2],[1.0])|          (5,[2],[1.0])|      (4,[2],[1.0])|            (3,[1],[1.0])|                   (3,[0],[1.0])|     (3,[0],[1.0])|       (6,[0],[1.0])|(10,[3],[1.0])|[40.0,697.62,100....|[2.52088995258297...|\n",
      "|               1|           2024|(4,[0],[1.0])|      (5,[0],[1.0])|          (7,[0],[1.0])|              (4,[2],[1.0])|            (4,[1],[1.0])|          (5,[1],[1.0])|      (4,[2],[1.0])|            (3,[0],[1.0])|                   (3,[1],[1.0])|     (3,[1],[1.0])|       (6,[1],[1.0])|(10,[2],[1.0])|[16.0,425.3750000...|[1.00835598103319...|\n",
      "|               1|           2024|(4,[0],[1.0])|      (5,[1],[1.0])|          (7,[1],[1.0])|              (4,[0],[1.0])|            (4,[2],[1.0])|          (5,[2],[1.0])|      (4,[0],[1.0])|            (3,[0],[1.0])|                   (3,[0],[1.0])|     (3,[1],[1.0])|       (6,[3],[1.0])|(10,[2],[1.0])|[57.0,697.62,333....|[3.59226818243074...|\n",
      "|               0|           2024|(4,[1],[1.0])|      (5,[0],[1.0])|          (7,[3],[1.0])|              (4,[1],[1.0])|            (4,[0],[1.0])|          (5,[2],[1.0])|      (4,[0],[1.0])|            (3,[0],[1.0])|                   (3,[1],[1.0])|     (3,[0],[1.0])|       (6,[0],[1.0])|(10,[4],[1.0])|[11.0,733.97,275....|[0.69324473696031...|\n",
      "|               1|           2024|(4,[1],[1.0])|      (5,[0],[1.0])|          (7,[1],[1.0])|              (4,[0],[1.0])|            (4,[1],[1.0])|          (5,[1],[1.0])|      (4,[2],[1.0])|            (3,[0],[1.0])|                   (3,[1],[1.0])|     (3,[1],[1.0])|       (6,[4],[1.0])|(10,[1],[1.0])|[39.0,551.11,241....|[2.45786770376840...|\n",
      "|               0|           2024|(4,[1],[1.0])|      (5,[1],[1.0])|          (7,[4],[1.0])|              (4,[0],[1.0])|            (4,[2],[1.0])|          (5,[2],[1.0])|      (4,[1],[1.0])|            (3,[0],[1.0])|                   (3,[1],[1.0])|     (3,[1],[1.0])|       (6,[1],[1.0])|(10,[7],[1.0])|[45.0,425.3750000...|[2.83600119665584...|\n",
      "+----------------+---------------+-------------+-------------------+-----------------------+---------------------------+-------------------------+-----------------------+-------------------+-------------------------+--------------------------------+------------------+--------------------+--------------+--------------------+--------------------+\n",
      "only showing top 20 rows\n",
      "\n"
     ]
    }
   ],
   "source": [
    "from pyspark.ml.feature import StandardScaler, VectorAssembler\n",
    "from pyspark.ml import Pipeline\n",
    "\n",
    "# Updated list of numerical columns that may need scaling\n",
    "numerical_cols = ['age', 'points_in_wallet', 'avg_time_spent', 'avg_transaction_value', \n",
    "                  'days_since_last_login', 'avg_frequency_login_days', 'customer_seniority']\n",
    "\n",
    "# Assemble the numerical features into a single vector column\n",
    "assembler = VectorAssembler(inputCols=numerical_cols, outputCol='numerical_features')\n",
    "\n",
    "# Apply standard scaling to the numerical features\n",
    "scaler = StandardScaler(inputCol='numerical_features', outputCol='scaled_features')\n",
    "\n",
    "# Create a pipeline for scaling\n",
    "pipeline_scaling = Pipeline(stages=[assembler, scaler])\n",
    "\n",
    "# Apply the pipeline to transform the DataFrame\n",
    "df_transformed = pipeline_scaling.fit(df_transformed).transform(df_transformed)\n",
    "\n",
    "# You may drop the original numerical columns after scaling if you don't need them\n",
    "df_transformed = df_transformed.drop(*numerical_cols)\n",
    "\n",
    "# Display the transformed DataFrame\n",
    "df_transformed.show()"
   ]
  },
  {
   "cell_type": "code",
   "execution_count": 10,
   "metadata": {},
   "outputs": [],
   "source": [
    "# Since the last_visit_year column doesn’t provide much variance (it appears to be constant for all rows), it may not add significant value to the model and can potentially be dropped.\n",
    "df_transformed = df_transformed.drop('last_visit_year')"
   ]
  },
  {
   "cell_type": "code",
   "execution_count": 11,
   "metadata": {},
   "outputs": [],
   "source": [
    "df_transformed = df_transformed.drop('numeral_features')"
   ]
  },
  {
   "cell_type": "markdown",
   "metadata": {},
   "source": [
    "# 5. Training and Evaluating Models"
   ]
  },
  {
   "cell_type": "markdown",
   "metadata": {},
   "source": [
    "In this step, we will train and evaluate seven different classification models to predict churn risk. We will also perform hyperparameter tuning (fine-tuning) for each model using cross-validation.\n",
    "\n",
    "Models to Train\n",
    "\n",
    "\t1.\tLogistic Regression\n",
    "\t2.\tDecision Tree\n",
    "\t3.\tRandom Forest\n",
    "\t4.\tGradient-Boosted Trees\n",
    "\t5.\tXGBoost\n",
    "\n"
   ]
  },
  {
   "cell_type": "markdown",
   "metadata": {},
   "source": [
    "## 5.1 Data Preparation\n",
    "Before starting, we need to ensure that our data is properly prepared for model training."
   ]
  },
  {
   "cell_type": "code",
   "execution_count": 32,
   "metadata": {},
   "outputs": [],
   "source": [
    "#import necessary libraries\n",
    "\n",
    "from pyspark.sql import SparkSession\n",
    "from pyspark.ml import Pipeline\n",
    "from pyspark.ml.feature import VectorAssembler, StringIndexer\n",
    "from pyspark.ml.evaluation import BinaryClassificationEvaluator, MulticlassClassificationEvaluator\n",
    "from pyspark.ml.tuning import ParamGridBuilder, CrossValidator\n",
    "from pyspark.ml.classification import (\n",
    "    LogisticRegression, DecisionTreeClassifier,\n",
    "    RandomForestClassifier, GBTClassifier, NaiveBayes\n",
    ")\n",
    "from pyspark.ml.functions import vector_to_array"
   ]
  },
  {
   "cell_type": "code",
   "execution_count": 13,
   "metadata": {},
   "outputs": [],
   "source": [
    "# Identify one-hot encoded columns\n",
    "ohe_cols = [col_name for col_name in df_transformed.columns if '_ohe' in col_name]\n",
    "\n",
    "# Assemble one-hot encoded columns into a single vector\n",
    "assembler_ohe = VectorAssembler(inputCols=ohe_cols, outputCol='ohe_features')\n",
    "df_transformed = assembler_ohe.transform(df_transformed)\n",
    "\n",
    "# Combine 'scaled_features' and 'ohe_features' into a single 'features' column\n",
    "assembler_all = VectorAssembler(inputCols=['scaled_features', 'ohe_features'], outputCol='features')\n",
    "df_transformed = assembler_all.transform(df_transformed)\n",
    "\n",
    "# Index the target variable if necessary\n",
    "label_indexer = StringIndexer(inputCol='churn_risk_score', outputCol='label')\n",
    "df_transformed = label_indexer.fit(df_transformed).transform(df_transformed)\n",
    "\n",
    "# Select only the necessary columns\n",
    "df_model = df_transformed.select('features', 'label')"
   ]
  },
  {
   "cell_type": "code",
   "execution_count": 14,
   "metadata": {},
   "outputs": [],
   "source": [
    "# Split the data into training and testing sets\n",
    "train_data, test_data = df_model.randomSplit([0.8, 0.2], seed=42)"
   ]
  },
  {
   "cell_type": "markdown",
   "metadata": {},
   "source": [
    "## 5.2 Model Training and Evaluation\n",
    "We will train each model, perform hyperparameter tuning with cross-validation, and then evaluate performance on the test set.\n"
   ]
  },
  {
   "cell_type": "markdown",
   "metadata": {},
   "source": [
    "### 5.2.1 Logistic Regression"
   ]
  },
  {
   "cell_type": "code",
   "execution_count": 30,
   "metadata": {},
   "outputs": [],
   "source": [
    "# Define the model\n",
    "lr = LogisticRegression(featuresCol='features', labelCol='label')"
   ]
  },
  {
   "cell_type": "code",
   "execution_count": 33,
   "metadata": {},
   "outputs": [],
   "source": [
    "# Define the parameter grid\n",
    "paramGrid_lr = ParamGridBuilder() \\\n",
    "    .addGrid(lr.regParam, [0.01, 0.1, 0.5]) \\\n",
    "    .addGrid(lr.elasticNetParam, [0.0, 0.5, 1.0]) \\\n",
    "    .build()"
   ]
  },
  {
   "cell_type": "code",
   "execution_count": 34,
   "metadata": {},
   "outputs": [],
   "source": [
    "# Define the cross-validator\n",
    "crossval_lr = CrossValidator(estimator=lr,\n",
    "                             estimatorParamMaps=paramGrid_lr,\n",
    "                             evaluator=BinaryClassificationEvaluator(),\n",
    "                             numFolds=3)"
   ]
  },
  {
   "cell_type": "code",
   "execution_count": 35,
   "metadata": {},
   "outputs": [],
   "source": [
    "# Train the model\n",
    "cvModel_lr = crossval_lr.fit(train_data)"
   ]
  },
  {
   "cell_type": "code",
   "execution_count": 36,
   "metadata": {},
   "outputs": [
    {
     "name": "stdout",
     "output_type": "stream",
     "text": [
      "Logistic Regression Metrics:\n",
      "AUC: 0.9651121081945403\n",
      "Accuracy: 0.8966034647387805\n",
      "Precision: 0.900938064156175\n",
      "Recall: 0.8966034647387806\n",
      "F1 Score: 0.8967734149085484\n"
     ]
    }
   ],
   "source": [
    "# Evaluate the model \n",
    "predictions_lr = cvModel_lr.transform(test_data)\n",
    "\n",
    "# Initialiser les évaluateurs\n",
    "binary_evaluator = BinaryClassificationEvaluator()\n",
    "multi_evaluator = MulticlassClassificationEvaluator()\n",
    "\n",
    "# Calculer l'AUC\n",
    "auc_lr = binary_evaluator.evaluate(predictions_lr, {binary_evaluator.metricName: 'areaUnderROC'})\n",
    "\n",
    "# Calculer l'Accuracy\n",
    "accuracy_lr = multi_evaluator.evaluate(predictions_lr, {multi_evaluator.metricName: 'accuracy'})\n",
    "\n",
    "# Calculer la Précision\n",
    "precision_lr = multi_evaluator.evaluate(predictions_lr, {multi_evaluator.metricName: 'weightedPrecision'})\n",
    "\n",
    "# Calculer le Rappel\n",
    "recall_lr = multi_evaluator.evaluate(predictions_lr, {multi_evaluator.metricName: 'weightedRecall'})\n",
    "\n",
    "# Calculer le F1-score\n",
    "f1_lr = multi_evaluator.evaluate(predictions_lr, {multi_evaluator.metricName: 'f1'})\n",
    "\n",
    "print(f\"Logistic Regression Metrics:\")\n",
    "print(f\"AUC: {auc_lr}\")\n",
    "print(f\"Accuracy: {accuracy_lr}\")\n",
    "print(f\"Precision: {precision_lr}\")\n",
    "print(f\"Recall: {recall_lr}\")\n",
    "print(f\"F1 Score: {f1_lr}\")"
   ]
  },
  {
   "cell_type": "markdown",
   "metadata": {},
   "source": [
    "### 5.2.2 Decision Tree"
   ]
  },
  {
   "cell_type": "code",
   "execution_count": 37,
   "metadata": {},
   "outputs": [],
   "source": [
    "# Define the model\n",
    "dt = DecisionTreeClassifier(featuresCol='features', labelCol='label')"
   ]
  },
  {
   "cell_type": "code",
   "execution_count": 38,
   "metadata": {},
   "outputs": [],
   "source": [
    "# Define the parameter grid\n",
    "paramGrid_dt = ParamGridBuilder() \\\n",
    "    .addGrid(dt.maxDepth, [5, 10, 15]) \\\n",
    "    .addGrid(dt.maxBins, [20, 30, 40]) \\\n",
    "    .build()"
   ]
  },
  {
   "cell_type": "code",
   "execution_count": 39,
   "metadata": {},
   "outputs": [],
   "source": [
    "# Define the cross-validator\n",
    "crossval_dt = CrossValidator(estimator=dt,\n",
    "                             estimatorParamMaps=paramGrid_dt,\n",
    "                             evaluator=BinaryClassificationEvaluator(),\n",
    "                             numFolds=3)"
   ]
  },
  {
   "cell_type": "code",
   "execution_count": 40,
   "metadata": {},
   "outputs": [],
   "source": [
    "cvModel_dt = crossval_dt.fit(train_data)"
   ]
  },
  {
   "cell_type": "code",
   "execution_count": 41,
   "metadata": {},
   "outputs": [
    {
     "name": "stdout",
     "output_type": "stream",
     "text": [
      "Decision Tree Metrics:\n",
      "AUC: 0.8724403342227656\n",
      "Accuracy: 0.9234756513436093\n",
      "Precision: 0.9234678274370597\n",
      "Recall: 0.9234756513436093\n",
      "F1 Score: 0.923471307305753\n"
     ]
    }
   ],
   "source": [
    "# Evaluate the model\n",
    "predictions_dt = cvModel_dt.transform(test_data)\n",
    "\n",
    "auc_dt = binary_evaluator.evaluate(predictions_dt, {binary_evaluator.metricName: 'areaUnderROC'})\n",
    "accuracy_dt = multi_evaluator.evaluate(predictions_dt, {multi_evaluator.metricName: 'accuracy'})\n",
    "precision_dt = multi_evaluator.evaluate(predictions_dt, {multi_evaluator.metricName: 'weightedPrecision'})\n",
    "recall_dt = multi_evaluator.evaluate(predictions_dt, {multi_evaluator.metricName: 'weightedRecall'})\n",
    "f1_dt = multi_evaluator.evaluate(predictions_dt, {multi_evaluator.metricName: 'f1'})\n",
    "\n",
    "print(f\"Decision Tree Metrics:\")\n",
    "print(f\"AUC: {auc_dt}\")\n",
    "print(f\"Accuracy: {accuracy_dt}\")\n",
    "print(f\"Precision: {precision_dt}\")\n",
    "print(f\"Recall: {recall_dt}\")\n",
    "print(f\"F1 Score: {f1_dt}\")"
   ]
  },
  {
   "cell_type": "markdown",
   "metadata": {},
   "source": [
    "### 5.2.3 Random Forest"
   ]
  },
  {
   "cell_type": "code",
   "execution_count": 19,
   "metadata": {},
   "outputs": [],
   "source": [
    "# Define the model\n",
    "rf = RandomForestClassifier(featuresCol='features', labelCol='label')"
   ]
  },
  {
   "cell_type": "code",
   "execution_count": 20,
   "metadata": {},
   "outputs": [],
   "source": [
    "# Define the parameter grid\n",
    "paramGrid_rf = ParamGridBuilder() \\\n",
    "    .addGrid(rf.numTrees, [50, 100]) \\\n",
    "    .addGrid(rf.maxDepth, [5, 10]) \\\n",
    "    .build()"
   ]
  },
  {
   "cell_type": "code",
   "execution_count": 21,
   "metadata": {},
   "outputs": [],
   "source": [
    "# Define the cross-validator\n",
    "crossval_rf = CrossValidator(estimator=rf,\n",
    "                             estimatorParamMaps=paramGrid_rf,\n",
    "                             evaluator=BinaryClassificationEvaluator(),\n",
    "                             numFolds=3)"
   ]
  },
  {
   "cell_type": "code",
   "execution_count": 22,
   "metadata": {},
   "outputs": [
    {
     "name": "stderr",
     "output_type": "stream",
     "text": [
      "                                                                                \r"
     ]
    }
   ],
   "source": [
    "# Train the model\n",
    "cvModel_rf = crossval_rf.fit(train_data)"
   ]
  },
  {
   "cell_type": "code",
   "execution_count": 42,
   "metadata": {},
   "outputs": [
    {
     "name": "stdout",
     "output_type": "stream",
     "text": [
      "Random Forest Metrics:\n",
      "AUC: 0.9720632808290955\n",
      "Accuracy: 0.9263401991542763\n",
      "Precision: 0.9265141919601809\n",
      "Recall: 0.9263401991542763\n",
      "F1 Score: 0.9262387702726304\n"
     ]
    }
   ],
   "source": [
    "# Evaluate the model\n",
    "predictions_rf = cvModel_rf.transform(test_data)\n",
    "auc_rf = binary_evaluator.evaluate(predictions_rf, {binary_evaluator.metricName: 'areaUnderROC'})\n",
    "accuracy_rf = multi_evaluator.evaluate(predictions_rf, {multi_evaluator.metricName: 'accuracy'})\n",
    "precision_rf = multi_evaluator.evaluate(predictions_rf, {multi_evaluator.metricName: 'weightedPrecision'})\n",
    "recall_rf = multi_evaluator.evaluate(predictions_rf, {multi_evaluator.metricName: 'weightedRecall'})\n",
    "f1_rf = multi_evaluator.evaluate(predictions_rf, {multi_evaluator.metricName: 'f1'})\n",
    "\n",
    "print(f\"Random Forest Metrics:\")\n",
    "print(f\"AUC: {auc_rf}\")\n",
    "print(f\"Accuracy: {accuracy_rf}\")\n",
    "print(f\"Precision: {precision_rf}\")\n",
    "print(f\"Recall: {recall_rf}\")\n",
    "print(f\"F1 Score: {f1_rf}\")"
   ]
  },
  {
   "cell_type": "markdown",
   "metadata": {},
   "source": [
    "### 5.2.4 Gradient-Boosted Trees"
   ]
  },
  {
   "cell_type": "code",
   "execution_count": 43,
   "metadata": {},
   "outputs": [],
   "source": [
    "# Define the model\n",
    "gbt = GBTClassifier(featuresCol='features', labelCol='label')"
   ]
  },
  {
   "cell_type": "code",
   "execution_count": 44,
   "metadata": {},
   "outputs": [],
   "source": [
    "# Define the parameter grid\n",
    "paramGrid_gbt = ParamGridBuilder() \\\n",
    "    .addGrid(gbt.maxIter, [10, 20]) \\\n",
    "    .addGrid(gbt.maxDepth, [5, 10]) \\\n",
    "    .build()"
   ]
  },
  {
   "cell_type": "code",
   "execution_count": 45,
   "metadata": {},
   "outputs": [],
   "source": [
    "# Create the cross-validator\n",
    "crossval_gbt = CrossValidator(estimator=gbt,\n",
    "                              estimatorParamMaps=paramGrid_gbt,\n",
    "                              evaluator=BinaryClassificationEvaluator(),\n",
    "                              numFolds=3)"
   ]
  },
  {
   "cell_type": "code",
   "execution_count": 46,
   "metadata": {},
   "outputs": [],
   "source": [
    "# Train the model\n",
    "cvModel_gbt = crossval_gbt.fit(train_data)"
   ]
  },
  {
   "cell_type": "code",
   "execution_count": 47,
   "metadata": {},
   "outputs": [
    {
     "name": "stdout",
     "output_type": "stream",
     "text": [
      "Gradient-Boosted Tree Metrics:\n",
      "AUC: 0.973143450383235\n",
      "Accuracy: 0.9255217569226573\n",
      "Precision: 0.9255622419829526\n",
      "Recall: 0.9255217569226573\n",
      "F1 Score: 0.925536392146296\n"
     ]
    }
   ],
   "source": [
    "# Evaluate the model\n",
    "predictions_gbt = cvModel_gbt.transform(test_data)\n",
    "auc_gbt = binary_evaluator.evaluate(predictions_gbt, {binary_evaluator.metricName: 'areaUnderROC'})\n",
    "accuracy_gbt = multi_evaluator.evaluate(predictions_gbt, {multi_evaluator.metricName: 'accuracy'})\n",
    "precision_gbt = multi_evaluator.evaluate(predictions_gbt, {multi_evaluator.metricName: 'weightedPrecision'})\n",
    "recall_gbt = multi_evaluator.evaluate(predictions_gbt, {multi_evaluator.metricName: 'weightedRecall'})\n",
    "f1_gbt = multi_evaluator.evaluate(predictions_gbt, {multi_evaluator.metricName: 'f1'})\n",
    "\n",
    "print(f\"Gradient-Boosted Tree Metrics:\")\n",
    "print(f\"AUC: {auc_gbt}\")\n",
    "print(f\"Accuracy: {accuracy_gbt}\")\n",
    "print(f\"Precision: {precision_gbt}\")\n",
    "print(f\"Recall: {recall_gbt}\")\n",
    "print(f\"F1 Score: {f1_gbt}\")\n"
   ]
  },
  {
   "cell_type": "markdown",
   "metadata": {},
   "source": [
    "### 5.2.5 XGBoost"
   ]
  },
  {
   "cell_type": "code",
   "execution_count": 15,
   "metadata": {},
   "outputs": [],
   "source": [
    "from xgboost.spark import SparkXGBClassifier"
   ]
  },
  {
   "cell_type": "code",
   "execution_count": 16,
   "metadata": {},
   "outputs": [
    {
     "name": "stderr",
     "output_type": "stream",
     "text": [
      "2024-10-01 03:53:20,116 INFO XGBoost-PySpark: _fit Running xgboost-2.1.1 on 1 workers with\n",
      "\tbooster params: {'device': 'cpu', 'learning_rate': 0.1, 'max_depth': 5, 'objective': 'binary:logistic', 'nthread': 1}\n",
      "\ttrain_call_kwargs_params: {'verbose_eval': True, 'num_boost_round': 50}\n",
      "\tdmatrix_kwargs: {'nthread': 1, 'missing': nan}\n",
      "2024-10-01 03:53:22,372 INFO XGBoost-PySpark: _train_booster Training on CPUs 1]\n",
      "[03:53:23] Task 0 got rank 0\n",
      "2024-10-01 03:53:24,632 INFO XGBoost-PySpark: _fit Finished xgboost training!   \n",
      "2024-10-01 03:53:26,601 INFO XGBoost-PySpark: predict_udf Do the inference on the CPUs\n",
      "2024-10-01 03:53:26,920 INFO XGBoost-PySpark: _fit Running xgboost-2.1.1 on 1 workers with\n",
      "\tbooster params: {'device': 'cpu', 'learning_rate': 0.1, 'max_depth': 5, 'objective': 'binary:logistic', 'nthread': 1}\n",
      "\ttrain_call_kwargs_params: {'verbose_eval': True, 'num_boost_round': 100}\n",
      "\tdmatrix_kwargs: {'nthread': 1, 'missing': nan}\n",
      "2024-10-01 03:53:27,009 INFO XGBoost-PySpark: _train_booster Training on CPUs\n",
      "[03:53:28] Task 0 got rank 0                                        (0 + 1) / 1]\n",
      "2024-10-01 03:53:29,265 INFO XGBoost-PySpark: _fit Finished xgboost training!   \n",
      "2024-10-01 03:53:29,386 INFO XGBoost-PySpark: predict_udf Do the inference on the CPUs\n",
      "2024-10-01 03:53:29,744 INFO XGBoost-PySpark: _fit Running xgboost-2.1.1 on 1 workers with\n",
      "\tbooster params: {'device': 'cpu', 'learning_rate': 0.3, 'max_depth': 5, 'objective': 'binary:logistic', 'nthread': 1}\n",
      "\ttrain_call_kwargs_params: {'verbose_eval': True, 'num_boost_round': 50}\n",
      "\tdmatrix_kwargs: {'nthread': 1, 'missing': nan}\n",
      "2024-10-01 03:53:29,846 INFO XGBoost-PySpark: _train_booster Training on CPUs\n",
      "[03:53:30] Task 0 got rank 0                                        (0 + 1) / 1]\n",
      "2024-10-01 03:53:32,005 INFO XGBoost-PySpark: _fit Finished xgboost training!   \n",
      "2024-10-01 03:53:32,119 INFO XGBoost-PySpark: predict_udf Do the inference on the CPUs\n",
      "2024-10-01 03:53:32,432 INFO XGBoost-PySpark: _fit Running xgboost-2.1.1 on 1 workers with\n",
      "\tbooster params: {'device': 'cpu', 'learning_rate': 0.3, 'max_depth': 5, 'objective': 'binary:logistic', 'nthread': 1}\n",
      "\ttrain_call_kwargs_params: {'verbose_eval': True, 'num_boost_round': 100}\n",
      "\tdmatrix_kwargs: {'nthread': 1, 'missing': nan}\n",
      "2024-10-01 03:53:32,521 INFO XGBoost-PySpark: _train_booster Training on CPUs\n",
      "[03:53:33] Task 0 got rank 0                                        (0 + 1) / 1]\n",
      "2024-10-01 03:53:34,786 INFO XGBoost-PySpark: _fit Finished xgboost training!   \n",
      "2024-10-01 03:53:34,892 INFO XGBoost-PySpark: predict_udf Do the inference on the CPUs\n",
      "2024-10-01 03:53:35,238 INFO XGBoost-PySpark: _fit Running xgboost-2.1.1 on 1 workers with\n",
      "\tbooster params: {'device': 'cpu', 'learning_rate': 0.1, 'max_depth': 10, 'objective': 'binary:logistic', 'nthread': 1}\n",
      "\ttrain_call_kwargs_params: {'verbose_eval': True, 'num_boost_round': 50}\n",
      "\tdmatrix_kwargs: {'nthread': 1, 'missing': nan}\n",
      "2024-10-01 03:53:35,329 INFO XGBoost-PySpark: _train_booster Training on CPUs\n",
      "[03:53:36] Task 0 got rank 0                                        (0 + 1) / 1]\n",
      "2024-10-01 03:53:37,599 INFO XGBoost-PySpark: _fit Finished xgboost training!   \n",
      "2024-10-01 03:53:37,737 INFO XGBoost-PySpark: predict_udf Do the inference on the CPUs\n",
      "2024-10-01 03:53:38,064 INFO XGBoost-PySpark: _fit Running xgboost-2.1.1 on 1 workers with\n",
      "\tbooster params: {'device': 'cpu', 'learning_rate': 0.1, 'max_depth': 10, 'objective': 'binary:logistic', 'nthread': 1}\n",
      "\ttrain_call_kwargs_params: {'verbose_eval': True, 'num_boost_round': 100}\n",
      "\tdmatrix_kwargs: {'nthread': 1, 'missing': nan}\n",
      "2024-10-01 03:53:38,152 INFO XGBoost-PySpark: _train_booster Training on CPUs\n",
      "[03:53:39] Task 0 got rank 0                                        (0 + 1) / 1]\n",
      "2024-10-01 03:53:40,581 INFO XGBoost-PySpark: _fit Finished xgboost training!   \n",
      "2024-10-01 03:53:40,690 INFO XGBoost-PySpark: predict_udf Do the inference on the CPUs\n",
      "2024-10-01 03:53:40,991 INFO XGBoost-PySpark: _fit Running xgboost-2.1.1 on 1 workers with\n",
      "\tbooster params: {'device': 'cpu', 'learning_rate': 0.3, 'max_depth': 10, 'objective': 'binary:logistic', 'nthread': 1}\n",
      "\ttrain_call_kwargs_params: {'verbose_eval': True, 'num_boost_round': 50}\n",
      "\tdmatrix_kwargs: {'nthread': 1, 'missing': nan}\n",
      "2024-10-01 03:53:41,075 INFO XGBoost-PySpark: _train_booster Training on CPUs\n",
      "[03:53:42] Task 0 got rank 0                                        (0 + 1) / 1]\n",
      "2024-10-01 03:53:43,355 INFO XGBoost-PySpark: _fit Finished xgboost training!   \n",
      "2024-10-01 03:53:43,461 INFO XGBoost-PySpark: predict_udf Do the inference on the CPUs\n",
      "2024-10-01 03:53:43,731 INFO XGBoost-PySpark: _fit Running xgboost-2.1.1 on 1 workers with\n",
      "\tbooster params: {'device': 'cpu', 'learning_rate': 0.3, 'max_depth': 10, 'objective': 'binary:logistic', 'nthread': 1}\n",
      "\ttrain_call_kwargs_params: {'verbose_eval': True, 'num_boost_round': 100}\n",
      "\tdmatrix_kwargs: {'nthread': 1, 'missing': nan}\n",
      "2024-10-01 03:53:43,806 INFO XGBoost-PySpark: _train_booster Training on CPUs\n",
      "[03:53:44] Task 0 got rank 0                                        (0 + 1) / 1]\n",
      "2024-10-01 03:53:46,311 INFO XGBoost-PySpark: _fit Finished xgboost training!   \n",
      "2024-10-01 03:53:46,446 INFO XGBoost-PySpark: predict_udf Do the inference on the CPUs\n",
      "2024-10-01 03:53:47,454 INFO XGBoost-PySpark: _fit Running xgboost-2.1.1 on 1 workers with\n",
      "\tbooster params: {'device': 'cpu', 'learning_rate': 0.1, 'max_depth': 5, 'objective': 'binary:logistic', 'nthread': 1}\n",
      "\ttrain_call_kwargs_params: {'verbose_eval': True, 'num_boost_round': 50}\n",
      "\tdmatrix_kwargs: {'nthread': 1, 'missing': nan}\n",
      "2024-10-01 03:53:47,536 INFO XGBoost-PySpark: _train_booster Training on CPUs\n",
      "[03:53:48] Task 0 got rank 0                                        (0 + 1) / 1]\n",
      "2024-10-01 03:53:49,729 INFO XGBoost-PySpark: _fit Finished xgboost training!   \n",
      "2024-10-01 03:53:50,340 INFO XGBoost-PySpark: predict_udf Do the inference on the CPUs\n",
      "2024-10-01 03:53:50,572 INFO XGBoost-PySpark: _fit Running xgboost-2.1.1 on 1 workers with\n",
      "\tbooster params: {'device': 'cpu', 'learning_rate': 0.1, 'max_depth': 5, 'objective': 'binary:logistic', 'nthread': 1}\n",
      "\ttrain_call_kwargs_params: {'verbose_eval': True, 'num_boost_round': 100}\n",
      "\tdmatrix_kwargs: {'nthread': 1, 'missing': nan}\n",
      "2024-10-01 03:53:50,656 INFO XGBoost-PySpark: _train_booster Training on CPUs\n",
      "[03:53:51] Task 0 got rank 0                                        (0 + 1) / 1]\n",
      "2024-10-01 03:53:52,913 INFO XGBoost-PySpark: _fit Finished xgboost training!   \n",
      "2024-10-01 03:53:53,064 INFO XGBoost-PySpark: predict_udf Do the inference on the CPUs\n",
      "2024-10-01 03:53:53,319 INFO XGBoost-PySpark: _fit Running xgboost-2.1.1 on 1 workers with\n",
      "\tbooster params: {'device': 'cpu', 'learning_rate': 0.3, 'max_depth': 5, 'objective': 'binary:logistic', 'nthread': 1}\n",
      "\ttrain_call_kwargs_params: {'verbose_eval': True, 'num_boost_round': 50}\n",
      "\tdmatrix_kwargs: {'nthread': 1, 'missing': nan}\n",
      "2024-10-01 03:53:53,387 INFO XGBoost-PySpark: _train_booster Training on CPUs\n",
      "[03:53:54] Task 0 got rank 0                                        (0 + 1) / 1]\n",
      "2024-10-01 03:53:55,535 INFO XGBoost-PySpark: _fit Finished xgboost training!   \n",
      "2024-10-01 03:53:55,628 INFO XGBoost-PySpark: predict_udf Do the inference on the CPUs\n",
      "2024-10-01 03:53:55,870 INFO XGBoost-PySpark: _fit Running xgboost-2.1.1 on 1 workers with\n",
      "\tbooster params: {'device': 'cpu', 'learning_rate': 0.3, 'max_depth': 5, 'objective': 'binary:logistic', 'nthread': 1}\n",
      "\ttrain_call_kwargs_params: {'verbose_eval': True, 'num_boost_round': 100}\n",
      "\tdmatrix_kwargs: {'nthread': 1, 'missing': nan}\n",
      "2024-10-01 03:53:55,945 INFO XGBoost-PySpark: _train_booster Training on CPUs\n",
      "[03:53:56] Task 0 got rank 0                                        (0 + 1) / 1]\n",
      "2024-10-01 03:53:58,204 INFO XGBoost-PySpark: _fit Finished xgboost training!   \n",
      "2024-10-01 03:53:58,316 INFO XGBoost-PySpark: predict_udf Do the inference on the CPUs\n",
      "2024-10-01 03:53:58,597 INFO XGBoost-PySpark: _fit Running xgboost-2.1.1 on 1 workers with\n",
      "\tbooster params: {'device': 'cpu', 'learning_rate': 0.1, 'max_depth': 10, 'objective': 'binary:logistic', 'nthread': 1}\n",
      "\ttrain_call_kwargs_params: {'verbose_eval': True, 'num_boost_round': 50}\n",
      "\tdmatrix_kwargs: {'nthread': 1, 'missing': nan}\n",
      "2024-10-01 03:53:58,675 INFO XGBoost-PySpark: _train_booster Training on CPUs\n",
      "[03:53:59] Task 0 got rank 0                                        (0 + 1) / 1]\n",
      "2024-10-01 03:54:01,015 INFO XGBoost-PySpark: _fit Finished xgboost training!   \n",
      "2024-10-01 03:54:01,117 INFO XGBoost-PySpark: predict_udf Do the inference on the CPUs\n",
      "2024-10-01 03:54:01,368 INFO XGBoost-PySpark: _fit Running xgboost-2.1.1 on 1 workers with\n",
      "\tbooster params: {'device': 'cpu', 'learning_rate': 0.1, 'max_depth': 10, 'objective': 'binary:logistic', 'nthread': 1}\n",
      "\ttrain_call_kwargs_params: {'verbose_eval': True, 'num_boost_round': 100}\n",
      "\tdmatrix_kwargs: {'nthread': 1, 'missing': nan}\n",
      "2024-10-01 03:54:01,441 INFO XGBoost-PySpark: _train_booster Training on CPUs\n",
      "[03:54:02] Task 0 got rank 0                                        (0 + 1) / 1]\n",
      "2024-10-01 03:54:03,863 INFO XGBoost-PySpark: _fit Finished xgboost training!   \n",
      "2024-10-01 03:54:03,969 INFO XGBoost-PySpark: predict_udf Do the inference on the CPUs\n",
      "2024-10-01 03:54:04,242 INFO XGBoost-PySpark: _fit Running xgboost-2.1.1 on 1 workers with\n",
      "\tbooster params: {'device': 'cpu', 'learning_rate': 0.3, 'max_depth': 10, 'objective': 'binary:logistic', 'nthread': 1}\n",
      "\ttrain_call_kwargs_params: {'verbose_eval': True, 'num_boost_round': 50}\n",
      "\tdmatrix_kwargs: {'nthread': 1, 'missing': nan}\n",
      "2024-10-01 03:54:04,327 INFO XGBoost-PySpark: _train_booster Training on CPUs\n",
      "[03:54:05] Task 0 got rank 0                                        (0 + 1) / 1]\n",
      "2024-10-01 03:54:06,622 INFO XGBoost-PySpark: _fit Finished xgboost training!   \n",
      "2024-10-01 03:54:06,816 INFO XGBoost-PySpark: predict_udf Do the inference on the CPUs\n",
      "2024-10-01 03:54:07,104 INFO XGBoost-PySpark: _fit Running xgboost-2.1.1 on 1 workers with\n",
      "\tbooster params: {'device': 'cpu', 'learning_rate': 0.3, 'max_depth': 10, 'objective': 'binary:logistic', 'nthread': 1}\n",
      "\ttrain_call_kwargs_params: {'verbose_eval': True, 'num_boost_round': 100}\n",
      "\tdmatrix_kwargs: {'nthread': 1, 'missing': nan}\n",
      "2024-10-01 03:54:07,173 INFO XGBoost-PySpark: _train_booster Training on CPUs\n",
      "[03:54:08] Task 0 got rank 0                                        (0 + 1) / 1]\n",
      "2024-10-01 03:54:09,666 INFO XGBoost-PySpark: _fit Finished xgboost training!   \n",
      "2024-10-01 03:54:09,782 INFO XGBoost-PySpark: predict_udf Do the inference on the CPUs\n",
      "2024-10-01 03:54:10,716 INFO XGBoost-PySpark: _fit Running xgboost-2.1.1 on 1 workers with\n",
      "\tbooster params: {'device': 'cpu', 'learning_rate': 0.1, 'max_depth': 5, 'objective': 'binary:logistic', 'nthread': 1}\n",
      "\ttrain_call_kwargs_params: {'verbose_eval': True, 'num_boost_round': 50}\n",
      "\tdmatrix_kwargs: {'nthread': 1, 'missing': nan}\n",
      "2024-10-01 03:54:10,787 INFO XGBoost-PySpark: _train_booster Training on CPUs\n",
      "[03:54:11] Task 0 got rank 0                                        (0 + 1) / 1]\n",
      "2024-10-01 03:54:12,961 INFO XGBoost-PySpark: _fit Finished xgboost training!   \n",
      "2024-10-01 03:54:13,541 INFO XGBoost-PySpark: predict_udf Do the inference on the CPUs\n",
      "2024-10-01 03:54:13,744 INFO XGBoost-PySpark: _fit Running xgboost-2.1.1 on 1 workers with\n",
      "\tbooster params: {'device': 'cpu', 'learning_rate': 0.1, 'max_depth': 5, 'objective': 'binary:logistic', 'nthread': 1}\n",
      "\ttrain_call_kwargs_params: {'verbose_eval': True, 'num_boost_round': 100}\n",
      "\tdmatrix_kwargs: {'nthread': 1, 'missing': nan}\n",
      "2024-10-01 03:54:13,813 INFO XGBoost-PySpark: _train_booster Training on CPUs\n",
      "[03:54:14] Task 0 got rank 0                                        (0 + 1) / 1]\n",
      "2024-10-01 03:54:16,069 INFO XGBoost-PySpark: _fit Finished xgboost training!   \n",
      "2024-10-01 03:54:16,166 INFO XGBoost-PySpark: predict_udf Do the inference on the CPUs\n",
      "2024-10-01 03:54:16,419 INFO XGBoost-PySpark: _fit Running xgboost-2.1.1 on 1 workers with\n",
      "\tbooster params: {'device': 'cpu', 'learning_rate': 0.3, 'max_depth': 5, 'objective': 'binary:logistic', 'nthread': 1}\n",
      "\ttrain_call_kwargs_params: {'verbose_eval': True, 'num_boost_round': 50}\n",
      "\tdmatrix_kwargs: {'nthread': 1, 'missing': nan}\n",
      "2024-10-01 03:54:16,488 INFO XGBoost-PySpark: _train_booster Training on CPUs\n",
      "[03:54:17] Task 0 got rank 0                                        (0 + 1) / 1]\n",
      "2024-10-01 03:54:18,661 INFO XGBoost-PySpark: _fit Finished xgboost training!   \n",
      "2024-10-01 03:54:18,767 INFO XGBoost-PySpark: predict_udf Do the inference on the CPUs\n",
      "2024-10-01 03:54:19,028 INFO XGBoost-PySpark: _fit Running xgboost-2.1.1 on 1 workers with\n",
      "\tbooster params: {'device': 'cpu', 'learning_rate': 0.3, 'max_depth': 5, 'objective': 'binary:logistic', 'nthread': 1}\n",
      "\ttrain_call_kwargs_params: {'verbose_eval': True, 'num_boost_round': 100}\n",
      "\tdmatrix_kwargs: {'nthread': 1, 'missing': nan}\n",
      "2024-10-01 03:54:19,098 INFO XGBoost-PySpark: _train_booster Training on CPUs\n",
      "[03:54:20] Task 0 got rank 0                                        (0 + 1) / 1]\n",
      "2024-10-01 03:54:21,372 INFO XGBoost-PySpark: _fit Finished xgboost training!   \n",
      "2024-10-01 03:54:21,462 INFO XGBoost-PySpark: predict_udf Do the inference on the CPUs\n",
      "2024-10-01 03:54:21,737 INFO XGBoost-PySpark: _fit Running xgboost-2.1.1 on 1 workers with\n",
      "\tbooster params: {'device': 'cpu', 'learning_rate': 0.1, 'max_depth': 10, 'objective': 'binary:logistic', 'nthread': 1}\n",
      "\ttrain_call_kwargs_params: {'verbose_eval': True, 'num_boost_round': 50}\n",
      "\tdmatrix_kwargs: {'nthread': 1, 'missing': nan}\n",
      "2024-10-01 03:54:21,804 INFO XGBoost-PySpark: _train_booster Training on CPUs\n",
      "[03:54:22] Task 0 got rank 0                                        (0 + 1) / 1]\n",
      "2024-10-01 03:54:24,049 INFO XGBoost-PySpark: _fit Finished xgboost training!   \n",
      "2024-10-01 03:54:24,209 INFO XGBoost-PySpark: predict_udf Do the inference on the CPUs\n",
      "2024-10-01 03:54:24,522 INFO XGBoost-PySpark: _fit Running xgboost-2.1.1 on 1 workers with\n",
      "\tbooster params: {'device': 'cpu', 'learning_rate': 0.1, 'max_depth': 10, 'objective': 'binary:logistic', 'nthread': 1}\n",
      "\ttrain_call_kwargs_params: {'verbose_eval': True, 'num_boost_round': 100}\n",
      "\tdmatrix_kwargs: {'nthread': 1, 'missing': nan}\n",
      "2024-10-01 03:54:24,601 INFO XGBoost-PySpark: _train_booster Training on CPUs\n",
      "[03:54:25] Task 0 got rank 0                                        (0 + 1) / 1]\n",
      "2024-10-01 03:54:27,031 INFO XGBoost-PySpark: _fit Finished xgboost training!   \n",
      "2024-10-01 03:54:27,138 INFO XGBoost-PySpark: predict_udf Do the inference on the CPUs\n",
      "2024-10-01 03:54:27,392 INFO XGBoost-PySpark: _fit Running xgboost-2.1.1 on 1 workers with\n",
      "\tbooster params: {'device': 'cpu', 'learning_rate': 0.3, 'max_depth': 10, 'objective': 'binary:logistic', 'nthread': 1}\n",
      "\ttrain_call_kwargs_params: {'verbose_eval': True, 'num_boost_round': 50}\n",
      "\tdmatrix_kwargs: {'nthread': 1, 'missing': nan}\n",
      "2024-10-01 03:54:27,462 INFO XGBoost-PySpark: _train_booster Training on CPUs\n",
      "[03:54:28] Task 0 got rank 0                                        (0 + 1) / 1]\n",
      "2024-10-01 03:54:29,743 INFO XGBoost-PySpark: _fit Finished xgboost training!   \n",
      "2024-10-01 03:54:29,842 INFO XGBoost-PySpark: predict_udf Do the inference on the CPUs\n",
      "2024-10-01 03:54:30,115 INFO XGBoost-PySpark: _fit Running xgboost-2.1.1 on 1 workers with\n",
      "\tbooster params: {'device': 'cpu', 'learning_rate': 0.3, 'max_depth': 10, 'objective': 'binary:logistic', 'nthread': 1}\n",
      "\ttrain_call_kwargs_params: {'verbose_eval': True, 'num_boost_round': 100}\n",
      "\tdmatrix_kwargs: {'nthread': 1, 'missing': nan}\n",
      "2024-10-01 03:54:30,188 INFO XGBoost-PySpark: _train_booster Training on CPUs\n",
      "[03:54:31] Task 0 got rank 0                                        (0 + 1) / 1]\n",
      "2024-10-01 03:54:32,659 INFO XGBoost-PySpark: _fit Finished xgboost training!   \n",
      "2024-10-01 03:54:32,770 INFO XGBoost-PySpark: predict_udf Do the inference on the CPUs\n",
      "2024-10-01 03:54:33,634 INFO XGBoost-PySpark: _fit Running xgboost-2.1.1 on 1 workers with\n",
      "\tbooster params: {'device': 'cpu', 'learning_rate': 0.1, 'max_depth': 10, 'objective': 'binary:logistic', 'nthread': 1}\n",
      "\ttrain_call_kwargs_params: {'verbose_eval': True, 'num_boost_round': 100}\n",
      "\tdmatrix_kwargs: {'nthread': 1, 'missing': nan}\n",
      "2024-10-01 03:54:34,184 INFO XGBoost-PySpark: _train_booster Training on CPUs\n",
      "[03:54:35] Task 0 got rank 0                                        (0 + 1) / 1]\n",
      "2024-10-01 03:54:36,675 INFO XGBoost-PySpark: _fit Finished xgboost training!   \n"
     ]
    }
   ],
   "source": [
    "from pyspark.ml.tuning import ParamGridBuilder, CrossValidator\n",
    "from pyspark.ml.evaluation import BinaryClassificationEvaluator\n",
    "\n",
    "# Initialize the XGBoost classifier with correct parameter names\n",
    "xgb = SparkXGBClassifier(features_col='features', label_col='label')\n",
    "\n",
    "# Define the parameter grid for hyperparameter tuning\n",
    "paramGrid_xgb = ParamGridBuilder() \\\n",
    "    .addGrid(xgb.max_depth, [5, 10]) \\\n",
    "    .addGrid(xgb.learning_rate, [0.1, 0.3]) \\\n",
    "    .addGrid(xgb.n_estimators, [50, 100]) \\\n",
    "    .build()\n",
    "\n",
    "# Configure cross-validation\n",
    "crossval_xgb = CrossValidator(estimator=xgb,\n",
    "                              estimatorParamMaps=paramGrid_xgb,\n",
    "                              evaluator=BinaryClassificationEvaluator(),\n",
    "                              numFolds=3)\n",
    "\n",
    "# Train the model\n",
    "cvModel_xgb = crossval_xgb.fit(train_data)"
   ]
  },
  {
   "cell_type": "code",
   "execution_count": 49,
   "metadata": {},
   "outputs": [
    {
     "name": "stderr",
     "output_type": "stream",
     "text": [
      "2024-10-01 04:19:31,262 INFO XGBoost-PySpark: predict_udf Do the inference on the CPUs\n",
      "2024-10-01 04:19:31,582 INFO XGBoost-PySpark: predict_udf Do the inference on the CPUs\n",
      "2024-10-01 04:19:32,070 INFO XGBoost-PySpark: predict_udf Do the inference on the CPUs\n",
      "2024-10-01 04:19:32,462 INFO XGBoost-PySpark: predict_udf Do the inference on the CPUs\n",
      "2024-10-01 04:19:32,868 INFO XGBoost-PySpark: predict_udf Do the inference on the CPUs\n"
     ]
    },
    {
     "name": "stdout",
     "output_type": "stream",
     "text": [
      "XGBoost Metrics:\n",
      "AUC: 0.9749381630935726\n",
      "Accuracy: 0.9286591188105306\n",
      "Precision: 0.9288668458645144\n",
      "Recall: 0.9286591188105306\n",
      "F1 Score: 0.9285554162055165\n"
     ]
    }
   ],
   "source": [
    "# Make predictions on the test data\n",
    "predictions_xgb = cvModel_xgb.transform(test_data)\n",
    "\n",
    "# Evaluate the model\n",
    "# Initialize the evaluator using the 'probability' column\n",
    "binary_evaluator = BinaryClassificationEvaluator(\n",
    "    rawPredictionCol='probability',\n",
    "    labelCol='label',\n",
    "    metricName='areaUnderROC'\n",
    ")\n",
    "auc_xgb = binary_evaluator.evaluate(predictions_xgb, {binary_evaluator.metricName: 'areaUnderROC'})\n",
    "accuracy_xgb = multi_evaluator.evaluate(predictions_xgb, {multi_evaluator.metricName: 'accuracy'})\n",
    "precision_xgb = multi_evaluator.evaluate(predictions_xgb, {multi_evaluator.metricName: 'weightedPrecision'})\n",
    "recall_xgb = multi_evaluator.evaluate(predictions_xgb, {multi_evaluator.metricName: 'weightedRecall'})\n",
    "f1_xgb = multi_evaluator.evaluate(predictions_xgb, {multi_evaluator.metricName: 'f1'})\n",
    "\n",
    "print(f\"XGBoost Metrics:\")\n",
    "print(f\"AUC: {auc_xgb}\")\n",
    "print(f\"Accuracy: {accuracy_xgb}\")\n",
    "print(f\"Precision: {precision_xgb}\")\n",
    "print(f\"Recall: {recall_xgb}\")\n",
    "print(f\"F1 Score: {f1_xgb}\")\n"
   ]
  },
  {
   "cell_type": "markdown",
   "metadata": {},
   "source": [
    "## 5.3 Model Comparison"
   ]
  },
  {
   "cell_type": "code",
   "execution_count": 50,
   "metadata": {},
   "outputs": [],
   "source": [
    "import pandas as pd\n",
    "\n",
    "metrics_data = [\n",
    "    {'Model': 'Logistic Regression', 'AUC': auc_lr, 'Accuracy': accuracy_lr, 'Precision': precision_lr, 'Recall': recall_lr, 'F1 Score': f1_lr},\n",
    "    {'Model': 'Decision Tree', 'AUC': auc_dt, 'Accuracy': accuracy_dt, 'Precision': precision_dt, 'Recall': recall_dt, 'F1 Score': f1_dt},\n",
    "    {'Model': 'Random Forest', 'AUC': auc_rf, 'Accuracy': accuracy_rf, 'Precision': precision_rf, 'Recall': recall_rf, 'F1 Score': f1_rf},\n",
    "    {'Model': 'Gradient Boosted Tree', 'AUC': auc_gbt, 'Accuracy': accuracy_gbt, 'Precision': precision_gbt, 'Recall': recall_gbt, 'F1 Score': f1_gbt},\n",
    "    {'Model': 'XGBoost', 'AUC': auc_xgb, 'Accuracy': accuracy_xgb, 'Precision': precision_xgb, 'Recall': recall_xgb, 'F1 Score': f1_xgb}\n",
    "]\n",
    "\n",
    "metrics_df = pd.DataFrame(metrics_data)"
   ]
  },
  {
   "cell_type": "code",
   "execution_count": 51,
   "metadata": {},
   "outputs": [
    {
     "data": {
      "image/png": "[encoded data removed]",
      "text/plain": [
       "<Figure size 1200x600 with 1 Axes>"
      ]
     },
     "metadata": {},
     "output_type": "display_data"
    }
   ],
   "source": [
    "import matplotlib.pyplot as plt\n",
    "import seaborn as sns\n",
    "\n",
    "sns.set(style=\"whitegrid\")\n",
    "\n",
    "metrics_melted = metrics_df.melt(id_vars=['Model'], var_name='Metric', value_name='Value')\n",
    "\n",
    "plt.figure(figsize=(12, 6))\n",
    "sns.barplot(x='Model', y='Value', hue='Metric', data=metrics_melted)\n",
    "plt.title('Comparison of Model Metrics')\n",
    "plt.xticks(rotation=45)\n",
    "plt.legend(loc='best')\n",
    "plt.tight_layout()\n",
    "plt.show()"
   ]
  },
  {
   "cell_type": "code",
   "execution_count": 53,
   "metadata": {},
   "outputs": [
    {
     "name": "stdout",
     "output_type": "stream",
     "text": [
      "                   Model       AUC  Accuracy  Precision    Recall  F1 Score\n",
      "0    Logistic Regression  0.965112  0.896603   0.900938  0.896603  0.896773\n",
      "1          Decision Tree  0.872440  0.923476   0.923468  0.923476  0.923471\n",
      "2          Random Forest  0.972063  0.926340   0.926514  0.926340  0.926239\n",
      "3  Gradient Boosted Tree  0.973143  0.925522   0.925562  0.925522  0.925536\n",
      "4                XGBoost  0.974938  0.928659   0.928867  0.928659  0.928555\n"
     ]
    }
   ],
   "source": [
    "# print the metrics dataframe\n",
    "print(metrics_df)"
   ]
  },
  {
   "cell_type": "code",
   "execution_count": 54,
   "metadata": {},
   "outputs": [
    {
     "name": "stdout",
     "output_type": "stream",
     "text": [
      "Best model based on Recall is XGBoost with Recall 0.9286591188105306\n"
     ]
    }
   ],
   "source": [
    "best_model_recall = metrics_df.sort_values(by='Recall', ascending=False).iloc[0]\n",
    "print(f\"Best model based on Recall is {best_model_recall['Model']} with Recall {best_model_recall['Recall']}\")"
   ]
  },
  {
   "cell_type": "markdown",
   "metadata": {},
   "source": [
    "In the context of churn prediction, the most important metrics are typically:\n",
    "\n",
    "- **Recall (Sensitivity):** This metric measures the model's ability to correctly identify customers who are going to churn (minimizing false negatives).\n",
    "- **Precision:** This refers to the model's ability to minimize false positives (predicting churn for customers who will not actually churn).\n",
    "- **F1 Score:** This is the harmonic mean of precision and recall, balancing the two.\n",
    "\n",
    "Depending on your priorities, you can select the most relevant metric. For instance, if your main goal is to ensure that no customer at risk of churning is missed, a model with high recall should be favored.\n",
    "\n",
    "In the current results, **XGBoost** has outperformed all other models across all metrics, making it the clear choice:\n",
    "\n",
    "Since XGBoost performs better in every key metric (AUC, accuracy, precision, recall, and F1 score), it is the optimal model for churn prediction in this case."
   ]
  }
 ],
 "metadata": {
  "kernelspec": {
   "display_name": "myenv",
   "language": "python",
   "name": "python3"
  },
  "language_info": {
   "codemirror_mode": {
    "name": "ipython",
    "version": 3
   },
   "file_extension": ".py",
   "mimetype": "text/x-python",
   "name": "python",
   "nbconvert_exporter": "python",
   "pygments_lexer": "ipython3",
   "version": "3.9.20"
  }
 },
 "nbformat": 4,
 "nbformat_minor": 2
}
